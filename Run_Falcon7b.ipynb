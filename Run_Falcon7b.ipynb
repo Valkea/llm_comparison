{
  "nbformat": 4,
  "nbformat_minor": 0,
  "metadata": {
    "colab": {
      "provenance": [],
      "gpuType": "V100",
      "machine_shape": "hm",
      "cell_execution_strategy": "setup"
    },
    "kernelspec": {
      "name": "python3",
      "display_name": "Python 3"
    },
    "language_info": {
      "name": "python"
    },
    "accelerator": "GPU",
    "widgets": {
      "application/vnd.jupyter.widget-state+json": {
        "087a7d51ef234609af946bddbf67190f": {
          "model_module": "@jupyter-widgets/controls",
          "model_name": "HBoxModel",
          "model_module_version": "1.5.0",
          "state": {
            "_dom_classes": [],
            "_model_module": "@jupyter-widgets/controls",
            "_model_module_version": "1.5.0",
            "_model_name": "HBoxModel",
            "_view_count": null,
            "_view_module": "@jupyter-widgets/controls",
            "_view_module_version": "1.5.0",
            "_view_name": "HBoxView",
            "box_style": "",
            "children": [
              "IPY_MODEL_c2cb8c199fae4d3092811b36d4b274a3",
              "IPY_MODEL_537eb052eb3d42c68b0d491f45240cd4",
              "IPY_MODEL_87cb460ff4d2433b958ceb285a32deee"
            ],
            "layout": "IPY_MODEL_9093fc07f6e24617830efafe238e61de"
          }
        },
        "c2cb8c199fae4d3092811b36d4b274a3": {
          "model_module": "@jupyter-widgets/controls",
          "model_name": "HTMLModel",
          "model_module_version": "1.5.0",
          "state": {
            "_dom_classes": [],
            "_model_module": "@jupyter-widgets/controls",
            "_model_module_version": "1.5.0",
            "_model_name": "HTMLModel",
            "_view_count": null,
            "_view_module": "@jupyter-widgets/controls",
            "_view_module_version": "1.5.0",
            "_view_name": "HTMLView",
            "description": "",
            "description_tooltip": null,
            "layout": "IPY_MODEL_400b064148d64a0fba0eaa8a9e5a3aff",
            "placeholder": "​",
            "style": "IPY_MODEL_c87d2059828d4f1f954116b9f79dcf17",
            "value": "Loading checkpoint shards: 100%"
          }
        },
        "537eb052eb3d42c68b0d491f45240cd4": {
          "model_module": "@jupyter-widgets/controls",
          "model_name": "FloatProgressModel",
          "model_module_version": "1.5.0",
          "state": {
            "_dom_classes": [],
            "_model_module": "@jupyter-widgets/controls",
            "_model_module_version": "1.5.0",
            "_model_name": "FloatProgressModel",
            "_view_count": null,
            "_view_module": "@jupyter-widgets/controls",
            "_view_module_version": "1.5.0",
            "_view_name": "ProgressView",
            "bar_style": "success",
            "description": "",
            "description_tooltip": null,
            "layout": "IPY_MODEL_074da0383fdc4b36ac7ee2ab3bc9d2fe",
            "max": 2,
            "min": 0,
            "orientation": "horizontal",
            "style": "IPY_MODEL_367da47f8bc949bb9b9f269074e732f9",
            "value": 2
          }
        },
        "87cb460ff4d2433b958ceb285a32deee": {
          "model_module": "@jupyter-widgets/controls",
          "model_name": "HTMLModel",
          "model_module_version": "1.5.0",
          "state": {
            "_dom_classes": [],
            "_model_module": "@jupyter-widgets/controls",
            "_model_module_version": "1.5.0",
            "_model_name": "HTMLModel",
            "_view_count": null,
            "_view_module": "@jupyter-widgets/controls",
            "_view_module_version": "1.5.0",
            "_view_name": "HTMLView",
            "description": "",
            "description_tooltip": null,
            "layout": "IPY_MODEL_cf1000a2800f4fdbbec8e5e87553cb84",
            "placeholder": "​",
            "style": "IPY_MODEL_7f32736525d445c0b879a37d2fff80e4",
            "value": " 2/2 [02:37&lt;00:00, 72.61s/it]"
          }
        },
        "9093fc07f6e24617830efafe238e61de": {
          "model_module": "@jupyter-widgets/base",
          "model_name": "LayoutModel",
          "model_module_version": "1.2.0",
          "state": {
            "_model_module": "@jupyter-widgets/base",
            "_model_module_version": "1.2.0",
            "_model_name": "LayoutModel",
            "_view_count": null,
            "_view_module": "@jupyter-widgets/base",
            "_view_module_version": "1.2.0",
            "_view_name": "LayoutView",
            "align_content": null,
            "align_items": null,
            "align_self": null,
            "border": null,
            "bottom": null,
            "display": null,
            "flex": null,
            "flex_flow": null,
            "grid_area": null,
            "grid_auto_columns": null,
            "grid_auto_flow": null,
            "grid_auto_rows": null,
            "grid_column": null,
            "grid_gap": null,
            "grid_row": null,
            "grid_template_areas": null,
            "grid_template_columns": null,
            "grid_template_rows": null,
            "height": null,
            "justify_content": null,
            "justify_items": null,
            "left": null,
            "margin": null,
            "max_height": null,
            "max_width": null,
            "min_height": null,
            "min_width": null,
            "object_fit": null,
            "object_position": null,
            "order": null,
            "overflow": null,
            "overflow_x": null,
            "overflow_y": null,
            "padding": null,
            "right": null,
            "top": null,
            "visibility": null,
            "width": null
          }
        },
        "400b064148d64a0fba0eaa8a9e5a3aff": {
          "model_module": "@jupyter-widgets/base",
          "model_name": "LayoutModel",
          "model_module_version": "1.2.0",
          "state": {
            "_model_module": "@jupyter-widgets/base",
            "_model_module_version": "1.2.0",
            "_model_name": "LayoutModel",
            "_view_count": null,
            "_view_module": "@jupyter-widgets/base",
            "_view_module_version": "1.2.0",
            "_view_name": "LayoutView",
            "align_content": null,
            "align_items": null,
            "align_self": null,
            "border": null,
            "bottom": null,
            "display": null,
            "flex": null,
            "flex_flow": null,
            "grid_area": null,
            "grid_auto_columns": null,
            "grid_auto_flow": null,
            "grid_auto_rows": null,
            "grid_column": null,
            "grid_gap": null,
            "grid_row": null,
            "grid_template_areas": null,
            "grid_template_columns": null,
            "grid_template_rows": null,
            "height": null,
            "justify_content": null,
            "justify_items": null,
            "left": null,
            "margin": null,
            "max_height": null,
            "max_width": null,
            "min_height": null,
            "min_width": null,
            "object_fit": null,
            "object_position": null,
            "order": null,
            "overflow": null,
            "overflow_x": null,
            "overflow_y": null,
            "padding": null,
            "right": null,
            "top": null,
            "visibility": null,
            "width": null
          }
        },
        "c87d2059828d4f1f954116b9f79dcf17": {
          "model_module": "@jupyter-widgets/controls",
          "model_name": "DescriptionStyleModel",
          "model_module_version": "1.5.0",
          "state": {
            "_model_module": "@jupyter-widgets/controls",
            "_model_module_version": "1.5.0",
            "_model_name": "DescriptionStyleModel",
            "_view_count": null,
            "_view_module": "@jupyter-widgets/base",
            "_view_module_version": "1.2.0",
            "_view_name": "StyleView",
            "description_width": ""
          }
        },
        "074da0383fdc4b36ac7ee2ab3bc9d2fe": {
          "model_module": "@jupyter-widgets/base",
          "model_name": "LayoutModel",
          "model_module_version": "1.2.0",
          "state": {
            "_model_module": "@jupyter-widgets/base",
            "_model_module_version": "1.2.0",
            "_model_name": "LayoutModel",
            "_view_count": null,
            "_view_module": "@jupyter-widgets/base",
            "_view_module_version": "1.2.0",
            "_view_name": "LayoutView",
            "align_content": null,
            "align_items": null,
            "align_self": null,
            "border": null,
            "bottom": null,
            "display": null,
            "flex": null,
            "flex_flow": null,
            "grid_area": null,
            "grid_auto_columns": null,
            "grid_auto_flow": null,
            "grid_auto_rows": null,
            "grid_column": null,
            "grid_gap": null,
            "grid_row": null,
            "grid_template_areas": null,
            "grid_template_columns": null,
            "grid_template_rows": null,
            "height": null,
            "justify_content": null,
            "justify_items": null,
            "left": null,
            "margin": null,
            "max_height": null,
            "max_width": null,
            "min_height": null,
            "min_width": null,
            "object_fit": null,
            "object_position": null,
            "order": null,
            "overflow": null,
            "overflow_x": null,
            "overflow_y": null,
            "padding": null,
            "right": null,
            "top": null,
            "visibility": null,
            "width": null
          }
        },
        "367da47f8bc949bb9b9f269074e732f9": {
          "model_module": "@jupyter-widgets/controls",
          "model_name": "ProgressStyleModel",
          "model_module_version": "1.5.0",
          "state": {
            "_model_module": "@jupyter-widgets/controls",
            "_model_module_version": "1.5.0",
            "_model_name": "ProgressStyleModel",
            "_view_count": null,
            "_view_module": "@jupyter-widgets/base",
            "_view_module_version": "1.2.0",
            "_view_name": "StyleView",
            "bar_color": null,
            "description_width": ""
          }
        },
        "cf1000a2800f4fdbbec8e5e87553cb84": {
          "model_module": "@jupyter-widgets/base",
          "model_name": "LayoutModel",
          "model_module_version": "1.2.0",
          "state": {
            "_model_module": "@jupyter-widgets/base",
            "_model_module_version": "1.2.0",
            "_model_name": "LayoutModel",
            "_view_count": null,
            "_view_module": "@jupyter-widgets/base",
            "_view_module_version": "1.2.0",
            "_view_name": "LayoutView",
            "align_content": null,
            "align_items": null,
            "align_self": null,
            "border": null,
            "bottom": null,
            "display": null,
            "flex": null,
            "flex_flow": null,
            "grid_area": null,
            "grid_auto_columns": null,
            "grid_auto_flow": null,
            "grid_auto_rows": null,
            "grid_column": null,
            "grid_gap": null,
            "grid_row": null,
            "grid_template_areas": null,
            "grid_template_columns": null,
            "grid_template_rows": null,
            "height": null,
            "justify_content": null,
            "justify_items": null,
            "left": null,
            "margin": null,
            "max_height": null,
            "max_width": null,
            "min_height": null,
            "min_width": null,
            "object_fit": null,
            "object_position": null,
            "order": null,
            "overflow": null,
            "overflow_x": null,
            "overflow_y": null,
            "padding": null,
            "right": null,
            "top": null,
            "visibility": null,
            "width": null
          }
        },
        "7f32736525d445c0b879a37d2fff80e4": {
          "model_module": "@jupyter-widgets/controls",
          "model_name": "DescriptionStyleModel",
          "model_module_version": "1.5.0",
          "state": {
            "_model_module": "@jupyter-widgets/controls",
            "_model_module_version": "1.5.0",
            "_model_name": "DescriptionStyleModel",
            "_view_count": null,
            "_view_module": "@jupyter-widgets/base",
            "_view_module_version": "1.2.0",
            "_view_name": "StyleView",
            "description_width": ""
          }
        }
      }
    }
  },
  "cells": [
    {
      "cell_type": "code",
      "source": [
        "!pip install -q -U bitsandbytes\n",
        "!pip install -q -U accelerate\n",
        "!pip install -q -U transformers\n",
        "!pip install -q -U torch\n",
        "!pip install -q -U einops\n",
        "!pip install -q -U xformers\n",
        "!pip install -q -U evaluate\n",
        "!pip install -q -U pandas"
      ],
      "metadata": {
        "colab": {
          "base_uri": "https://localhost:8080/"
        },
        "id": "hXmzHoECVKCi",
        "outputId": "bfdb7c91-fa57-4853-ab29-aa230575f409"
      },
      "execution_count": 1,
      "outputs": [
        {
          "output_type": "stream",
          "name": "stdout",
          "text": [
            "\u001b[2K     \u001b[90m━━━━━━━━━━━━━━━━━━━━━━━━━━━━━━━━━━━━━━━━\u001b[0m \u001b[32m92.5/92.5 MB\u001b[0m \u001b[31m11.1 MB/s\u001b[0m eta \u001b[36m0:00:00\u001b[0m\n",
            "\u001b[2K     \u001b[90m━━━━━━━━━━━━━━━━━━━━━━━━━━━━━━━━━━━━━━━\u001b[0m \u001b[32m244.2/244.2 kB\u001b[0m \u001b[31m3.9 MB/s\u001b[0m eta \u001b[36m0:00:00\u001b[0m\n",
            "\u001b[2K     \u001b[90m━━━━━━━━━━━━━━━━━━━━━━━━━━━━━━━━━━━━━━━━\u001b[0m \u001b[32m7.4/7.4 MB\u001b[0m \u001b[31m21.2 MB/s\u001b[0m eta \u001b[36m0:00:00\u001b[0m\n",
            "\u001b[2K     \u001b[90m━━━━━━━━━━━━━━━━━━━━━━━━━━━━━━━━━━━━━━\u001b[0m \u001b[32m268.8/268.8 kB\u001b[0m \u001b[31m25.9 MB/s\u001b[0m eta \u001b[36m0:00:00\u001b[0m\n",
            "\u001b[2K     \u001b[90m━━━━━━━━━━━━━━━━━━━━━━━━━━━━━━━━━━━━━━━━\u001b[0m \u001b[32m7.8/7.8 MB\u001b[0m \u001b[31m55.1 MB/s\u001b[0m eta \u001b[36m0:00:00\u001b[0m\n",
            "\u001b[2K     \u001b[90m━━━━━━━━━━━━━━━━━━━━━━━━━━━━━━━━━━━━━━━━\u001b[0m \u001b[32m1.3/1.3 MB\u001b[0m \u001b[31m57.7 MB/s\u001b[0m eta \u001b[36m0:00:00\u001b[0m\n",
            "\u001b[2K     \u001b[90m━━━━━━━━━━━━━━━━━━━━━━━━━━━━━━━━━━━━━━━━\u001b[0m \u001b[32m42.2/42.2 kB\u001b[0m \u001b[31m1.3 MB/s\u001b[0m eta \u001b[36m0:00:00\u001b[0m\n",
            "\u001b[2K     \u001b[90m━━━━━━━━━━━━━━━━━━━━━━━━━━━━━━━━━━━━━━━\u001b[0m \u001b[32m109.1/109.1 MB\u001b[0m \u001b[31m7.0 MB/s\u001b[0m eta \u001b[36m0:00:00\u001b[0m\n",
            "\u001b[2K     \u001b[90m━━━━━━━━━━━━━━━━━━━━━━━━━━━━━━━━━━━━━━━━\u001b[0m \u001b[32m81.4/81.4 kB\u001b[0m \u001b[31m2.0 MB/s\u001b[0m eta \u001b[36m0:00:00\u001b[0m\n",
            "\u001b[2K     \u001b[90m━━━━━━━━━━━━━━━━━━━━━━━━━━━━━━━━━━━━━━\u001b[0m \u001b[32m486.2/486.2 kB\u001b[0m \u001b[31m10.7 MB/s\u001b[0m eta \u001b[36m0:00:00\u001b[0m\n",
            "\u001b[2K     \u001b[90m━━━━━━━━━━━━━━━━━━━━━━━━━━━━━━━━━━━━━━\u001b[0m \u001b[32m110.5/110.5 kB\u001b[0m \u001b[31m10.3 MB/s\u001b[0m eta \u001b[36m0:00:00\u001b[0m\n",
            "\u001b[2K     \u001b[90m━━━━━━━━━━━━━━━━━━━━━━━━━━━━━━━━━━━━━━\u001b[0m \u001b[32m212.5/212.5 kB\u001b[0m \u001b[31m13.3 MB/s\u001b[0m eta \u001b[36m0:00:00\u001b[0m\n",
            "\u001b[2K     \u001b[90m━━━━━━━━━━━━━━━━━━━━━━━━━━━━━━━━━━━━━━\u001b[0m \u001b[32m134.3/134.3 kB\u001b[0m \u001b[31m11.1 MB/s\u001b[0m eta \u001b[36m0:00:00\u001b[0m\n",
            "\u001b[2K     \u001b[90m━━━━━━━━━━━━━━━━━━━━━━━━━━━━━━━━━━━━━━━━\u001b[0m \u001b[32m12.3/12.3 MB\u001b[0m \u001b[31m43.6 MB/s\u001b[0m eta \u001b[36m0:00:00\u001b[0m\n",
            "\u001b[2K     \u001b[90m━━━━━━━━━━━━━━━━━━━━━━━━━━━━━━━━━━━━━━\u001b[0m \u001b[32m341.8/341.8 kB\u001b[0m \u001b[31m35.1 MB/s\u001b[0m eta \u001b[36m0:00:00\u001b[0m\n",
            "\u001b[?25h\u001b[31mERROR: pip's dependency resolver does not currently take into account all the packages that are installed. This behaviour is the source of the following dependency conflicts.\n",
            "google-colab 1.0.0 requires pandas==1.5.3, but you have pandas 2.0.3 which is incompatible.\u001b[0m\u001b[31m\n",
            "\u001b[0m"
          ]
        }
      ]
    },
    {
      "cell_type": "code",
      "source": [
        "!nvidia-smi"
      ],
      "metadata": {
        "colab": {
          "base_uri": "https://localhost:8080/"
        },
        "id": "e9ZN_7y9ykIz",
        "outputId": "1b185eb7-7ed7-4526-bec5-2290bb2142ba"
      },
      "execution_count": 2,
      "outputs": [
        {
          "output_type": "stream",
          "name": "stdout",
          "text": [
            "Wed Jul 19 22:08:55 2023       \n",
            "+-----------------------------------------------------------------------------+\n",
            "| NVIDIA-SMI 525.105.17   Driver Version: 525.105.17   CUDA Version: 12.0     |\n",
            "|-------------------------------+----------------------+----------------------+\n",
            "| GPU  Name        Persistence-M| Bus-Id        Disp.A | Volatile Uncorr. ECC |\n",
            "| Fan  Temp  Perf  Pwr:Usage/Cap|         Memory-Usage | GPU-Util  Compute M. |\n",
            "|                               |                      |               MIG M. |\n",
            "|===============================+======================+======================|\n",
            "|   0  Tesla V100-SXM2...  Off  | 00000000:00:04.0 Off |                    0 |\n",
            "| N/A   34C    P0    23W / 300W |      0MiB / 16384MiB |      0%      Default |\n",
            "|                               |                      |                  N/A |\n",
            "+-------------------------------+----------------------+----------------------+\n",
            "                                                                               \n",
            "+-----------------------------------------------------------------------------+\n",
            "| Processes:                                                                  |\n",
            "|  GPU   GI   CI        PID   Type   Process name                  GPU Memory |\n",
            "|        ID   ID                                                   Usage      |\n",
            "|=============================================================================|\n",
            "|  No running processes found                                                 |\n",
            "+-----------------------------------------------------------------------------+\n"
          ]
        }
      ]
    },
    {
      "cell_type": "markdown",
      "source": [
        "### Connect to Google Drive in order to store the HF models for the next time"
      ],
      "metadata": {
        "id": "X4zQA5c7FlnG"
      }
    },
    {
      "cell_type": "code",
      "source": [
        "import os\n",
        "from google.colab import drive\n",
        "\n",
        "drive.mount('/content/drive')\n",
        "\n",
        "os.environ['TRANSFORMERS_CACHE'] = '/content/drive/MyDrive/Colab Notebooks/NLP/HuggingfaceCash'\n",
        "os.environ['HF_DATASETS_CACHE'] = '/content/drive/MyDrive/Colab Notebooks/NLP/HuggingfaceCash/Datasets'"
      ],
      "metadata": {
        "colab": {
          "base_uri": "https://localhost:8080/"
        },
        "id": "D3SFaa2Lw0GL",
        "outputId": "9ec0daba-7dd2-48c8-da56-a0f07307ad14"
      },
      "execution_count": 3,
      "outputs": [
        {
          "output_type": "stream",
          "name": "stdout",
          "text": [
            "Drive already mounted at /content/drive; to attempt to forcibly remount, call drive.mount(\"/content/drive\", force_remount=True).\n"
          ]
        }
      ]
    },
    {
      "cell_type": "code",
      "execution_count": 4,
      "metadata": {
        "id": "gnDLmkC6U-fP"
      },
      "outputs": [],
      "source": [
        "import re\n",
        "import time\n",
        "import pathlib\n",
        "\n",
        "import pandas as pd\n",
        "\n",
        "from transformers import AutoTokenizer, AutoModelForCausalLM #, AutoModelForMaskedLM\n",
        "import transformers\n",
        "import torch"
      ]
    },
    {
      "cell_type": "markdown",
      "source": [
        "### Load the model and tokenizer"
      ],
      "metadata": {
        "id": "02VHhUf0DbsF"
      }
    },
    {
      "cell_type": "code",
      "source": [
        "model_name = \"tiiuae/falcon-7b-instruct\"\n",
        "\n",
        "model = AutoModelForCausalLM.from_pretrained(model_name, load_in_4bit=True, device_map=\"auto\", trust_remote_code=True)\n",
        "tokenizer = AutoTokenizer.from_pretrained(model_name)"
      ],
      "metadata": {
        "colab": {
          "base_uri": "https://localhost:8080/",
          "height": 49,
          "referenced_widgets": [
            "087a7d51ef234609af946bddbf67190f",
            "c2cb8c199fae4d3092811b36d4b274a3",
            "537eb052eb3d42c68b0d491f45240cd4",
            "87cb460ff4d2433b958ceb285a32deee",
            "9093fc07f6e24617830efafe238e61de",
            "400b064148d64a0fba0eaa8a9e5a3aff",
            "c87d2059828d4f1f954116b9f79dcf17",
            "074da0383fdc4b36ac7ee2ab3bc9d2fe",
            "367da47f8bc949bb9b9f269074e732f9",
            "cf1000a2800f4fdbbec8e5e87553cb84",
            "7f32736525d445c0b879a37d2fff80e4"
          ]
        },
        "id": "AR5ad_6AVAbB",
        "outputId": "e90ffff4-017c-4839-cc91-2aead0478b65"
      },
      "execution_count": 5,
      "outputs": [
        {
          "output_type": "display_data",
          "data": {
            "text/plain": [
              "Loading checkpoint shards:   0%|          | 0/2 [00:00<?, ?it/s]"
            ],
            "application/vnd.jupyter.widget-view+json": {
              "version_major": 2,
              "version_minor": 0,
              "model_id": "087a7d51ef234609af946bddbf67190f"
            }
          },
          "metadata": {}
        }
      ]
    },
    {
      "cell_type": "markdown",
      "source": [
        "### Prepare the pipeline"
      ],
      "metadata": {
        "id": "6yWO_H6hEpvo"
      }
    },
    {
      "cell_type": "code",
      "source": [
        "pipeline = transformers.pipeline(\n",
        "    \"text-generation\",\n",
        "    model=model,\n",
        "    tokenizer=tokenizer,\n",
        "    torch_dtype=torch.bfloat16,\n",
        "    # trust_remote_code=True,\n",
        "    # device_map=\"auto\",\n",
        ")"
      ],
      "metadata": {
        "id": "CDKYGMm2En6c"
      },
      "execution_count": 6,
      "outputs": []
    },
    {
      "cell_type": "markdown",
      "source": [
        "### Add stop words to control the output"
      ],
      "metadata": {
        "id": "AV2OEdSGEQ6T"
      }
    },
    {
      "cell_type": "code",
      "source": [
        "from transformers import StoppingCriteriaList, StoppingCriteria\n",
        "class StoppingCriteriaSub(StoppingCriteria):\n",
        "\n",
        "    def __init__(self, stops = [], encounters=1):\n",
        "        super().__init__()\n",
        "        self.stops = [stop.to(\"cuda\") for stop in stops]\n",
        "\n",
        "    def __call__(self, input_ids: torch.LongTensor, scores: torch.FloatTensor):\n",
        "        for stop in self.stops:\n",
        "            if torch.all((stop == input_ids[0][-len(stop):])).item():\n",
        "                return True\n",
        "\n",
        "        return False\n",
        "\n",
        "\n",
        "stop_words = [\"\\\\n\",\"agent_1:\", \"agent\\_1:\", \"\\Context\"]\n",
        "stop_words_ids = [tokenizer(stop_word, return_tensors='pt')['input_ids'].squeeze() for stop_word in stop_words]\n",
        "stopping_criteria = StoppingCriteriaList([StoppingCriteriaSub(stops=stop_words_ids)])"
      ],
      "metadata": {
        "id": "CeQ7JFvd0CqI"
      },
      "execution_count": 7,
      "outputs": []
    },
    {
      "cell_type": "markdown",
      "source": [
        "### Make one inference"
      ],
      "metadata": {
        "id": "lp1a95J0D7Dz"
      }
    },
    {
      "cell_type": "code",
      "source": [
        "def make_inference():\n",
        "  #txt = \"\"\"\n",
        "  #    Answer the question as truthfully as possible using the provided text, and if the answer is not contained within the text below, say \"I don't know my lord!\"\n",
        "  #    Context: The men's high jump event at the 2020 Summer Olympics took place between 30 July and 1 August 2021 at the Olympic Stadium. 33 athletes from 24 nations competed; the total possible number depended on how many nations would use universality places to enter athletes in addition to the 32 qualifying through mark or ranking (no universality places were used in 2021). Italian athlete Gianmarco Tamberi along with Qatari athlete Mutaz Essa Barshim emerged as joint winners of the event following a tie between both of them as they cleared 2.37m. Both Tamberi and Barshim agreed to share the gold medal in a rare instance where the athletes of different nations had agreed to share the same medal in the history of Olympics. Barshim in particular was heard to ask a competition official \"Can we have two golds?\" in response to being offered a 'jump off'. Maksim Nedasekau of Belarus took bronze. The medals were the first ever in the men's high jump for Italy and Belarus, the first gold in the men's high jump for Italy and Qatar, and the third consecutive medal in the men's high jump for Qatar (all by Barshim). Barshim became only the second man to earn three medals in high jump, joining Patrik Sjöberg of Sweden (1984 to 1992).\n",
        "  #    Who is the president of France?\n",
        "  #    \"\"\"\n",
        "  # txt = \"What is the color of a tomato?\"\n",
        "  #\n",
        "  # txt = \"\"\"You are agent_2, a teenager. Consider the dialogue given as Context between agent_1 and agent_2. Write agent_2 next sentence as an open ended question.\n",
        "  #       Context: agent_1: Did you know that the University of Iowa's locker room is painted pink? I wonder why? \\n agent_2: I think I did hear something about that.  I imagine it is an attempt to psych the other team out. \\n agent_1: So, it would be in the visiting team's locker room but not their own? \\n\"\"\"\n",
        "  #\n",
        "  # txt = \"\"\"You are agent_2, a teenager. Consider the dialogue given as Context between agent_1 and agent_2. What is agent_2 next open ended sentence?\n",
        "  #       Context: agent_1: Did you know that the University of Iowa's locker room is painted pink? I wonder why? \\n agent_2: I think I did hear something about that.  I imagine it is an attempt to psych the other team out. \\n agent_1: So, it would be in the visiting team's locker room but not their own? \\n\"\"\"\n",
        "  #\n",
        "  # txt = \"\"\"You are agent_2, a teenager. Consider the dialogue given as Context between agent_1 and agent_2. Write agent_2 response including the word 'orange'.\n",
        "  #       Context: agent_1: Did you know that the University of Iowa's locker room is painted pink? I wonder why? \\n agent_2: I think I did hear something about that.  I imagine it is an attempt to psych the other team out. \\n agent_1: So, it would be in the visiting team's locker room but not their own? \\n\"\"\"\n",
        "\n",
        "  # context = \"agent_1: Hi, how are you? \\n agent_2: I am well thanks. How deep do you think NCAA basketball violations go? \\n agent_1: Not well but I also think the NCAA is so weak now that the findings of any major sanctions will be difficult and take a long time to investigate. What about you? \\n \"\n",
        "\n",
        "  context = \"agent_1: Did you know that the University of Iowa's locker room is painted pink? I wonder why? \\n agent_2: I think I did hear something about that.  I imagine it is an attempt to psych the other team out. \\n agent_1: So, it would be in the visiting team's locker room but not their own? \\n \"\n",
        "\n",
        "  txt = f\"\"\"You are agent_2, a teenager. Consider the dialogue given as Context between agent_1 and agent_2.\n",
        "        Context: \\n{context}\n",
        "        Write agent_2 next sentence as a question using the word 'orange' \"\"\"\n",
        "\n",
        "\n",
        "  sequences = pipeline(\n",
        "      txt,\n",
        "      max_length=500,\n",
        "      do_sample=True,\n",
        "      top_k=10,\n",
        "      #min_new_tokens=2,\n",
        "      #max_new_tokens=100,\n",
        "      temperature=float(0.3),\n",
        "      num_return_sequences=1,\n",
        "      eos_token_id=tokenizer.eos_token_id,\n",
        "      stopping_criteria=stopping_criteria,\n",
        "  )\n",
        "  for seq in sequences:\n",
        "      print(f\"Result: {seq['generated_text']}\")\n",
        "\n",
        "# make_inference()"
      ],
      "metadata": {
        "id": "DqVUEgTJVtZo"
      },
      "execution_count": 8,
      "outputs": []
    },
    {
      "cell_type": "markdown",
      "source": [
        "# Evaluate the model with a test_set"
      ],
      "metadata": {
        "id": "4iT7F_v3DTQj"
      }
    },
    {
      "cell_type": "code",
      "source": [],
      "metadata": {
        "id": "S07vK64SMK1k"
      },
      "execution_count": null,
      "outputs": []
    },
    {
      "cell_type": "code",
      "source": [
        "def execute_model(context):\n",
        "\n",
        "  start_time = time.time()\n",
        "\n",
        "  # txt_001 = f\"\"\" You are agent_2, a teenager. Consider the dialogue given as Context between agent_1 and agent_2. What is agent_2 next open ended question? Use the word 'orange' if possible. Context: \\n{context}\"\"\"\n",
        "  txt = f\"\"\" You are agent_2, a teenager. Answer agent_1 with an open-ended question and try to use the word 'orange'. Context: \\n{context}agent_2:\"\"\"\n",
        "\n",
        "  sequences = pipeline(\n",
        "    txt,\n",
        "    max_length=500,\n",
        "    do_sample=True,\n",
        "    top_k=10,\n",
        "    temperature=float(0.3),\n",
        "    num_return_sequences=1,\n",
        "    #eos_token_id=tokenizer.eos_token_id,\n",
        "    #eos_token_id=tokenizer(\"agent_1:\")[\"input_ids\"],\n",
        "    eos_token_id=tokenizer(\"\\n\")[\"input_ids\"],\n",
        "    stopping_criteria=stopping_criteria,\n",
        "  )\n",
        "\n",
        "  result = \"\"\n",
        "  for seq in sequences:\n",
        "    r = seq['generated_text']\n",
        "    result += r\n",
        "\n",
        "  print(f\"\\nRAW Result: {result.strip()}\\n\\n\")\n",
        "\n",
        "  a2s = result.lower().rfind(\"agent_2\")\n",
        "  r = result[a2s:]\n",
        "  r = r.strip()\n",
        "\n",
        "  print(f\"\\nClean Result: {r}\\n\\n\")\n",
        "\n",
        "  q1 = r.find('?') > -1\n",
        "  q2 = r.find('orange') > -1\n",
        "\n",
        "  return context, r, len(r), q1, q2, time.time()-start_time\n",
        "\n",
        "\n",
        "def save_results(output_path, results):\n",
        "  data_export = pd.DataFrame(results, columns=['context', 'response', 'response_size', 'has_question', 'has_orange', 'inference_time'])\n",
        "  data_export.to_csv(output_path)\n",
        "  return data_export\n",
        "\n",
        "def eval_llm_simple(input_path):\n",
        "\n",
        "  results = []\n",
        "  test_set = pd.read_csv(input_path, header=None, index_col=0)\n",
        "\n",
        "  for i, dialog in enumerate(test_set.values):\n",
        "    print(i, \"*****************************\")\n",
        "    r = execute_model(dialog[0])\n",
        "    results.append((r))\n",
        "\n",
        "  return results\n",
        "\n",
        "working_folder = pathlib.Path(\"/content/drive/MyDrive/Colab Notebooks/\")\n",
        "input_path = pathlib.Path(working_folder, 'test_set.csv')\n",
        "output_path = pathlib.Path(working_folder, 'results_falcon.csv')\n",
        "\n",
        "results = eval_llm_simple(input_path)\n",
        "save_results(output_path, results).head()"
      ],
      "metadata": {
        "colab": {
          "base_uri": "https://localhost:8080/",
          "height": 1000
        },
        "outputId": "5bc4ef41-ac13-41e8-c9a2-447b09c15225",
        "id": "Z4key0ieMLHR"
      },
      "execution_count": 9,
      "outputs": [
        {
          "output_type": "stream",
          "name": "stderr",
          "text": [
            "/usr/local/lib/python3.10/dist-packages/transformers/generation/utils.py:1270: UserWarning: You have modified the pretrained model configuration to control generation. This is a deprecated strategy to control generation and will be removed soon, in a future version. Please use a generation configuration file (see https://huggingface.co/docs/transformers/main_classes/text_generation )\n",
            "  warnings.warn(\n",
            "Setting `pad_token_id` to `eos_token_id`:193 for open-end generation.\n"
          ]
        },
        {
          "output_type": "stream",
          "name": "stdout",
          "text": [
            "0 *****************************\n"
          ]
        },
        {
          "output_type": "stream",
          "name": "stderr",
          "text": [
            "Setting `pad_token_id` to `eos_token_id`:193 for open-end generation.\n"
          ]
        },
        {
          "output_type": "stream",
          "name": "stdout",
          "text": [
            "\n",
            "RAW Result: You are agent_2, a teenager. Answer agent_1 with an open-ended question and try to use the word 'orange'. Context: \n",
            "agent_1: Did you know that the University of Iowa's locker room is painted pink? I wonder why?\n",
            "agent_2: I think I did hear something about that.  I imagine it is an attempt to psych the other team out.\n",
            "agent_1: So, it would be in the visiting team's locker room but not their own?\n",
            "\n",
            "agent_2: Yes, that's what I heard.\n",
            "\n",
            "\n",
            "\n",
            "Clean Result: agent_2: Yes, that's what I heard.\n",
            "\n",
            "\n",
            "1 *****************************\n"
          ]
        },
        {
          "output_type": "stream",
          "name": "stderr",
          "text": [
            "Setting `pad_token_id` to `eos_token_id`:193 for open-end generation.\n"
          ]
        },
        {
          "output_type": "stream",
          "name": "stdout",
          "text": [
            "\n",
            "RAW Result: You are agent_2, a teenager. Answer agent_1 with an open-ended question and try to use the word 'orange'. Context: \n",
            "agent_1: Hi, how are you?\n",
            "agent_2: well thanks! Do you know anything about keith jackson?\n",
            "agent_1: I do, I love college football and can hear him say \"Whoa Nelly!\". What about you, are you familiar with him?\n",
            "\n",
            "agent_2: Yes, I am. He's a famous football coach known for his motivational speeches.\n",
            "\n",
            "\n",
            "\n",
            "Clean Result: agent_2: Yes, I am. He's a famous football coach known for his motivational speeches.\n",
            "\n",
            "\n",
            "2 *****************************\n"
          ]
        },
        {
          "output_type": "stream",
          "name": "stderr",
          "text": [
            "Setting `pad_token_id` to `eos_token_id`:193 for open-end generation.\n"
          ]
        },
        {
          "output_type": "stream",
          "name": "stdout",
          "text": [
            "\n",
            "RAW Result: You are agent_2, a teenager. Answer agent_1 with an open-ended question and try to use the word 'orange'. Context: \n",
            "agent_1: Hi, how are you?\n",
            "agent_2: I am well thanks. How deep do you think NCAA basketball violations go?\n",
            "agent_1: Not well but I also think the NCAA is so weak now that the findings of any major sanctions will be difficult and take a long time to investigate. What about you?\n",
            "\n",
            "agent_2: I am doing well. How about you?\n",
            "\n",
            "\n",
            "\n",
            "Clean Result: agent_2: I am doing well. How about you?\n",
            "\n",
            "\n",
            "3 *****************************\n"
          ]
        },
        {
          "output_type": "stream",
          "name": "stderr",
          "text": [
            "Setting `pad_token_id` to `eos_token_id`:193 for open-end generation.\n"
          ]
        },
        {
          "output_type": "stream",
          "name": "stdout",
          "text": [
            "\n",
            "RAW Result: You are agent_2, a teenager. Answer agent_1 with an open-ended question and try to use the word 'orange'. Context: \n",
            "agent_1: do you watch the NFL?\n",
            "agent_2: I sure do. How about yourself?\n",
            "agent_1: Me too. Did you know women can play in the NFL too?\n",
            "\n",
            "agent_2: Really? That's amazing! Do you think they should be paid the same as male NFL players?\n",
            "\n",
            "\n",
            "\n",
            "Clean Result: agent_2: Really? That's amazing! Do you think they should be paid the same as male NFL players?\n",
            "\n",
            "\n",
            "4 *****************************\n"
          ]
        },
        {
          "output_type": "stream",
          "name": "stderr",
          "text": [
            "Setting `pad_token_id` to `eos_token_id`:193 for open-end generation.\n"
          ]
        },
        {
          "output_type": "stream",
          "name": "stdout",
          "text": [
            "\n",
            "RAW Result: You are agent_2, a teenager. Answer agent_1 with an open-ended question and try to use the word 'orange'. Context: \n",
            "agent_1: Hi there, do you watch the NFL?\n",
            "agent_2: Hi! Yes I do sometimes. What's your favorite team?\n",
            "agent_1: I think the Patriots, I like them best. One of their former QB never fumbled a ball in his career. How about you?\n",
            "\n",
            "agent_2: I'm a big fan of the Giants. I like their orange jerseys.\n",
            "\n",
            "\n",
            "\n",
            "Clean Result: agent_2: I'm a big fan of the Giants. I like their orange jerseys.\n",
            "\n",
            "\n",
            "5 *****************************\n"
          ]
        },
        {
          "output_type": "stream",
          "name": "stderr",
          "text": [
            "Setting `pad_token_id` to `eos_token_id`:193 for open-end generation.\n"
          ]
        },
        {
          "output_type": "stream",
          "name": "stdout",
          "text": [
            "\n",
            "RAW Result: You are agent_2, a teenager. Answer agent_1 with an open-ended question and try to use the word 'orange'. Context: \n",
            "agent_1: Football or Basketball, do you have a favorite?\n",
            "agent_2: Football! It's more exciting I think. I like the american version though!\n",
            "agent_1: I agree with you, football americano for sure! do you follow college football?\n",
            "\n",
            "agent_2: I don't follow college football, but I do like watching the NFL on Sundays.\n",
            "\n",
            "\n",
            "\n",
            "Clean Result: agent_2: I don't follow college football, but I do like watching the NFL on Sundays.\n",
            "\n",
            "\n",
            "6 *****************************\n"
          ]
        },
        {
          "output_type": "stream",
          "name": "stderr",
          "text": [
            "Setting `pad_token_id` to `eos_token_id`:193 for open-end generation.\n"
          ]
        },
        {
          "output_type": "stream",
          "name": "stdout",
          "text": [
            "\n",
            "RAW Result: You are agent_2, a teenager. Answer agent_1 with an open-ended question and try to use the word 'orange'. Context: \n",
            "agent_1: HI how are you?\n",
            "agent_2: Hey! I just got in from a game of basketball! We had enough players for the common 5 player teams. Do you like basketball?\n",
            "agent_1: I do a little bit. Did you guys win?!\n",
            "\n",
            "agent_2: Yes, we won! We had a great game.\n",
            "\n",
            "\n",
            "\n",
            "Clean Result: agent_2: Yes, we won! We had a great game.\n",
            "\n",
            "\n",
            "7 *****************************\n"
          ]
        },
        {
          "output_type": "stream",
          "name": "stderr",
          "text": [
            "Setting `pad_token_id` to `eos_token_id`:193 for open-end generation.\n"
          ]
        },
        {
          "output_type": "stream",
          "name": "stdout",
          "text": [
            "\n",
            "RAW Result: You are agent_2, a teenager. Answer agent_1 with an open-ended question and try to use the word 'orange'. Context: \n",
            "agent_1: good morning! do you like football?\n",
            "agent_2: Good morning, yes, I do.  How about you?\n",
            "agent_1: Yes I do.  Did you know that the highest score on a game was 222-0?\n",
            "\n",
            "agent_2: Wow, that's amazing! How did you do in your game?\n",
            "\n",
            "\n",
            "\n",
            "Clean Result: agent_2: Wow, that's amazing! How did you do in your game?\n",
            "\n",
            "\n",
            "8 *****************************\n"
          ]
        },
        {
          "output_type": "stream",
          "name": "stderr",
          "text": [
            "Setting `pad_token_id` to `eos_token_id`:193 for open-end generation.\n"
          ]
        },
        {
          "output_type": "stream",
          "name": "stdout",
          "text": [
            "\n",
            "RAW Result: You are agent_2, a teenager. Answer agent_1 with an open-ended question and try to use the word 'orange'. Context: \n",
            "agent_1: Hi, how are you?\n",
            "agent_2: Doing good? Do you follow football at all? It's a family of sports that includes rugby, gridiron, and soccer\n",
            "agent_1: Why yes, I do I love all types of football.  Do you like football?\n",
            "\n",
            "agent_2: I do like football, but I'm not very good at it. I'm more of a basketball person.\n",
            "\n",
            "\n",
            "\n",
            "Clean Result: agent_2: I do like football, but I'm not very good at it. I'm more of a basketball person.\n",
            "\n",
            "\n",
            "9 *****************************\n"
          ]
        },
        {
          "output_type": "stream",
          "name": "stderr",
          "text": [
            "/usr/local/lib/python3.10/dist-packages/transformers/pipelines/base.py:1083: UserWarning: You seem to be using the pipelines sequentially on GPU. In order to maximize efficiency please use a dataset\n",
            "  warnings.warn(\n",
            "Setting `pad_token_id` to `eos_token_id`:193 for open-end generation.\n"
          ]
        },
        {
          "output_type": "stream",
          "name": "stdout",
          "text": [
            "\n",
            "RAW Result: You are agent_2, a teenager. Answer agent_1 with an open-ended question and try to use the word 'orange'. Context: \n",
            "agent_1: Hello, you follow the NFL much?\n",
            "agent_2: I do. I am getting ready to watch the playoff games\n",
            "agent_1: for sure, who you rooting for? Saints?\n",
            "\n",
            "agent_2: Yes, I am a Saints fan. I am rooting for them to win the championship this year.\n",
            "\n",
            "\n",
            "\n",
            "Clean Result: agent_2: Yes, I am a Saints fan. I am rooting for them to win the championship this year.\n",
            "\n",
            "\n",
            "10 *****************************\n"
          ]
        },
        {
          "output_type": "stream",
          "name": "stderr",
          "text": [
            "Setting `pad_token_id` to `eos_token_id`:193 for open-end generation.\n"
          ]
        },
        {
          "output_type": "stream",
          "name": "stdout",
          "text": [
            "\n",
            "RAW Result: You are agent_2, a teenager. Answer agent_1 with an open-ended question and try to use the word 'orange'. Context: \n",
            "agent_1: I'm wondering when women are finally going to play in the NFL.\n",
            "agent_2: I think there was a womens' league years ago but I am not sure. It was not the NFL though.\n",
            "agent_1: Was that the league with lingerie or something? Five or six a side football?\n",
            "\n",
            "agent_2: No, it was the women's basketball league. They played on a smaller court and the game was a lot faster.\n",
            "\n",
            "\n",
            "\n",
            "Clean Result: agent_2: No, it was the women's basketball league. They played on a smaller court and the game was a lot faster.\n",
            "\n",
            "\n",
            "11 *****************************\n"
          ]
        },
        {
          "output_type": "stream",
          "name": "stderr",
          "text": [
            "Setting `pad_token_id` to `eos_token_id`:193 for open-end generation.\n"
          ]
        },
        {
          "output_type": "stream",
          "name": "stdout",
          "text": [
            "\n",
            "RAW Result: You are agent_2, a teenager. Answer agent_1 with an open-ended question and try to use the word 'orange'. Context: \n",
            "agent_1: Hi, do you like college foot ball?\n",
            "agent_2: Yeah but i don't get to watch at all. How about you?\n",
            "agent_1: I do love it and watch it all the time. Do you have a favorite team?\n",
            "\n",
            "agent_2: Yes, I do. I like the orange team. What do you think about them?\n",
            "\n",
            "\n",
            "\n",
            "Clean Result: agent_2: Yes, I do. I like the orange team. What do you think about them?\n",
            "\n",
            "\n",
            "12 *****************************\n"
          ]
        },
        {
          "output_type": "stream",
          "name": "stderr",
          "text": [
            "Setting `pad_token_id` to `eos_token_id`:193 for open-end generation.\n"
          ]
        },
        {
          "output_type": "stream",
          "name": "stdout",
          "text": [
            "\n",
            "RAW Result: You are agent_2, a teenager. Answer agent_1 with an open-ended question and try to use the word 'orange'. Context: \n",
            "agent_1: Hello there, are you a fan of football?\n",
            "agent_2: I am a fan, what about you?\n",
            "agent_1: I am as well, did you watch the Super Bowl this past Sunday?\n",
            "\n",
            "agent_2: Yes, I watched it. I was rooting for agent_1's team.\n",
            "\n",
            "\n",
            "\n",
            "Clean Result: agent_2: Yes, I watched it. I was rooting for agent_1's team.\n",
            "\n",
            "\n",
            "13 *****************************\n"
          ]
        },
        {
          "output_type": "stream",
          "name": "stderr",
          "text": [
            "Setting `pad_token_id` to `eos_token_id`:193 for open-end generation.\n"
          ]
        },
        {
          "output_type": "stream",
          "name": "stdout",
          "text": [
            "\n",
            "RAW Result: You are agent_2, a teenager. Answer agent_1 with an open-ended question and try to use the word 'orange'. Context: \n",
            "agent_1: Hello there, do you follow the NFL at all?\n",
            "agent_2: I love the NFL. What about you?\n",
            "agent_1: I follow but mostly my favorite team, I do watch more during the playoffs I will say though.  How about you?\n",
            "\n",
            "agent_2: I love the NFL. My favorite team is the Raiders. I'm a big fan of Derek Carr. What about you?\n",
            "\n",
            "\n",
            "\n",
            "Clean Result: agent_2: I love the NFL. My favorite team is the Raiders. I'm a big fan of Derek Carr. What about you?\n",
            "\n",
            "\n",
            "14 *****************************\n"
          ]
        },
        {
          "output_type": "stream",
          "name": "stderr",
          "text": [
            "Setting `pad_token_id` to `eos_token_id`:193 for open-end generation.\n"
          ]
        },
        {
          "output_type": "stream",
          "name": "stdout",
          "text": [
            "\n",
            "RAW Result: You are agent_2, a teenager. Answer agent_1 with an open-ended question and try to use the word 'orange'. Context: \n",
            "agent_1: Do you watch the NFL?\n",
            "agent_2: A little, you? I can't watch like i use to years ago so im not current.\n",
            "agent_1: Which of the 32 teams is your favorite?\n",
            "\n",
            "agent_2: The New York Giants!\n",
            "\n",
            "\n",
            "\n",
            "Clean Result: agent_2: The New York Giants!\n",
            "\n",
            "\n",
            "15 *****************************\n"
          ]
        },
        {
          "output_type": "stream",
          "name": "stderr",
          "text": [
            "Setting `pad_token_id` to `eos_token_id`:193 for open-end generation.\n"
          ]
        },
        {
          "output_type": "stream",
          "name": "stdout",
          "text": [
            "\n",
            "RAW Result: You are agent_2, a teenager. Answer agent_1 with an open-ended question and try to use the word 'orange'. Context: \n",
            "agent_1: did you know that Minnie Mouse's name is short for Minerva? haha that is weird\n",
            "agent_2: I had no clue, I also didn't know Disney was founded by Roy Disney too\n",
            "agent_1: No I didn't know that, or that wall-e was named after Walter Elias Disney, I wonder if that is walt disney's son?\n",
            "\n",
            "agent_2: I didn't know that either, I just thought Minnie was a cute name.\n",
            "\n",
            "\n",
            "\n",
            "Clean Result: agent_2: I didn't know that either, I just thought Minnie was a cute name.\n",
            "\n",
            "\n",
            "16 *****************************\n"
          ]
        },
        {
          "output_type": "stream",
          "name": "stderr",
          "text": [
            "Setting `pad_token_id` to `eos_token_id`:193 for open-end generation.\n"
          ]
        },
        {
          "output_type": "stream",
          "name": "stdout",
          "text": [
            "\n",
            "RAW Result: You are agent_2, a teenager. Answer agent_1 with an open-ended question and try to use the word 'orange'. Context: \n",
            "agent_1: Did you know that Disney owns ABC as well as ESPN?\n",
            "agent_2: I did. Do you watch football? \n",
            "agent_1: Yes I do, I am a contributor to the number one ranking for viewership of Sunday Night Football. Do you?\n",
            "\n",
            "agent_2: Yes, I do. What team do you root for?\n",
            "\n",
            "\n",
            "\n",
            "Clean Result: agent_2: Yes, I do. What team do you root for?\n",
            "\n",
            "\n",
            "17 *****************************\n"
          ]
        },
        {
          "output_type": "stream",
          "name": "stderr",
          "text": [
            "Setting `pad_token_id` to `eos_token_id`:193 for open-end generation.\n"
          ]
        },
        {
          "output_type": "stream",
          "name": "stdout",
          "text": [
            "\n",
            "RAW Result: You are agent_2, a teenager. Answer agent_1 with an open-ended question and try to use the word 'orange'. Context: \n",
            "agent_1: Boy, I miss football season. I love ESPN's Monday night football offerings. What about you?\n",
            "agent_2: I don't really watch it though sometimes I inadvertently end up watching Thursday Night Football.\n",
            "agent_1: Ah, yes. During football season, it can be hard to not catch at least part of a game. Did you know ABC is the only one of the 4 major broadcast networks without a prime-time NFL game?\n",
            "\n",
            "agent_2: I didn't know that. I'm not a huge fan of the sport but I do like to watch it when I can.\n",
            "\n",
            "\n",
            "\n",
            "Clean Result: agent_2: I didn't know that. I'm not a huge fan of the sport but I do like to watch it when I can.\n",
            "\n",
            "\n",
            "18 *****************************\n"
          ]
        },
        {
          "output_type": "stream",
          "name": "stderr",
          "text": [
            "Setting `pad_token_id` to `eos_token_id`:193 for open-end generation.\n"
          ]
        },
        {
          "output_type": "stream",
          "name": "stdout",
          "text": [
            "\n",
            "RAW Result: You are agent_2, a teenager. Answer agent_1 with an open-ended question and try to use the word 'orange'. Context: \n",
            "agent_1: How do you feel about internet use these days?\n",
            "agent_2: It is very necessary for communication purpose, to known anything happening in the different part of the world. Over all, It is very good.\n",
            "agent_1: Did you know that people can become addicted to clicking links on the internet because of the constant novelty?\n",
            "\n",
            "agent_2: Yes, I know. It is very important to have a balance between internet use and other activities.\n",
            "\n",
            "\n",
            "\n",
            "Clean Result: agent_2: Yes, I know. It is very important to have a balance between internet use and other activities.\n",
            "\n",
            "\n",
            "19 *****************************\n"
          ]
        },
        {
          "output_type": "stream",
          "name": "stderr",
          "text": [
            "Setting `pad_token_id` to `eos_token_id`:193 for open-end generation.\n"
          ]
        },
        {
          "output_type": "stream",
          "name": "stdout",
          "text": [
            "\n",
            "RAW Result: You are agent_2, a teenager. Answer agent_1 with an open-ended question and try to use the word 'orange'. Context: \n",
            "agent_1: did you know that Hugh Laurie is the highest paid TV actor ever?\n",
            "agent_2: Hi! No I did not know that, very interesting! I was reading an article about the Patriots Josh McDaniels just might take a coaching position! Do you watch football?\n",
            "agent_1: I do  a little bit, I want the patriots to win tomorrow, what about you?\n",
            "\n",
            "agent_2: I'm a big fan, I'm hoping they win too! I'm going to watch the game with my dad. He's a big fan too. What are you doing tomorrow?\n",
            "\n",
            "\n",
            "\n",
            "Clean Result: agent_2: I'm a big fan, I'm hoping they win too! I'm going to watch the game with my dad. He's a big fan too. What are you doing tomorrow?\n",
            "\n",
            "\n",
            "20 *****************************\n"
          ]
        },
        {
          "output_type": "stream",
          "name": "stderr",
          "text": [
            "Setting `pad_token_id` to `eos_token_id`:193 for open-end generation.\n"
          ]
        },
        {
          "output_type": "stream",
          "name": "stdout",
          "text": [
            "\n",
            "RAW Result: You are agent_2, a teenager. Answer agent_1 with an open-ended question and try to use the word 'orange'. Context: \n",
            "agent_1: Hi do you watch dramas?\n",
            "agent_2: I sure do. Did you know Jon Hamm taught drama in a high school?\n",
            "agent_1: Cool. Did you ever watch the show House MD?\n",
            "\n",
            "agent_2: Yes, I did.\n",
            "\n",
            "\n",
            "\n",
            "Clean Result: agent_2: Yes, I did.\n",
            "\n",
            "\n",
            "21 *****************************\n"
          ]
        },
        {
          "output_type": "stream",
          "name": "stderr",
          "text": [
            "Setting `pad_token_id` to `eos_token_id`:193 for open-end generation.\n"
          ]
        },
        {
          "output_type": "stream",
          "name": "stdout",
          "text": [
            "\n",
            "RAW Result: You are agent_2, a teenager. Answer agent_1 with an open-ended question and try to use the word 'orange'. Context: \n",
            "agent_1: Are you a fan of drama films? \n",
            "agent_2: I am! I love all genre's\n",
            "agent_1: Interesting, have you ever seen house? \n",
            "\n",
            "agent_2: Yes, I have! I love it.\n",
            "\n",
            "\n",
            "\n",
            "Clean Result: agent_2: Yes, I have! I love it.\n",
            "\n",
            "\n",
            "22 *****************************\n"
          ]
        },
        {
          "output_type": "stream",
          "name": "stderr",
          "text": [
            "Setting `pad_token_id` to `eos_token_id`:193 for open-end generation.\n"
          ]
        },
        {
          "output_type": "stream",
          "name": "stdout",
          "text": [
            "\n",
            "RAW Result: You are agent_2, a teenager. Answer agent_1 with an open-ended question and try to use the word 'orange'. Context: \n",
            "agent_1: hey there, do you watch NFL?\n",
            "agent_2: I do watch the NFL. 32 teams in the league. I'm a Bears fan. One bad kick ended it for my team this year. \n",
            "agent_1: did you know women can play too if they qualify?\n",
            "\n",
            "agent_2: \"No, I didn't know that. How many women play in the NFL?\"\n",
            "\n",
            "\n",
            "\n",
            "Clean Result: agent_2: \"No, I didn't know that. How many women play in the NFL?\"\n",
            "\n",
            "\n",
            "23 *****************************\n"
          ]
        },
        {
          "output_type": "stream",
          "name": "stderr",
          "text": [
            "Setting `pad_token_id` to `eos_token_id`:193 for open-end generation.\n"
          ]
        },
        {
          "output_type": "stream",
          "name": "stdout",
          "text": [
            "\n",
            "RAW Result: You are agent_2, a teenager. Answer agent_1 with an open-ended question and try to use the word 'orange'. Context: \n",
            "agent_1: hello, how are you?\n",
            "agent_2: Hi, great.  You?\n",
            "agent_1: same. what is your favorite article?\n",
            "\n",
            "agent_2: Hi, how are you?\n",
            "\n",
            "\n",
            "\n",
            "Clean Result: agent_2: Hi, how are you?\n",
            "\n",
            "\n",
            "24 *****************************\n"
          ]
        },
        {
          "output_type": "stream",
          "name": "stderr",
          "text": [
            "Setting `pad_token_id` to `eos_token_id`:193 for open-end generation.\n"
          ]
        },
        {
          "output_type": "stream",
          "name": "stdout",
          "text": [
            "\n",
            "RAW Result: You are agent_2, a teenager. Answer agent_1 with an open-ended question and try to use the word 'orange'. Context: \n",
            "agent_1: Do you watch Football? \n",
            "agent_2: I do, what about yourself?\n",
            "agent_1: I watch it. Did you know there are only 11 minutes of live gameplay per game? \n",
            "\n",
            "agent_2: That's interesting. I didn't know that. What other types of games do you watch?\n",
            "\n",
            "\n",
            "\n",
            "Clean Result: agent_2: That's interesting. I didn't know that. What other types of games do you watch?\n",
            "\n",
            "\n",
            "25 *****************************\n"
          ]
        },
        {
          "output_type": "stream",
          "name": "stderr",
          "text": [
            "Setting `pad_token_id` to `eos_token_id`:193 for open-end generation.\n"
          ]
        },
        {
          "output_type": "stream",
          "name": "stdout",
          "text": [
            "\n",
            "RAW Result: You are agent_2, a teenager. Answer agent_1 with an open-ended question and try to use the word 'orange'. Context: \n",
            "agent_1: Are you a sports fan by any chance?\n",
            "agent_2: i do like sports. i dont get much chance to watch these days. you?\n",
            "agent_1: I enjoy a few. Did you know that Babe Ruth was America's most famous golfer at one point?\n",
            "\n",
            "agent_2: No, I didn't know that. Babe Ruth was a legendary baseball player. Did you know that he was known as the 'Sultan of Swat'?\n",
            "\n",
            "\n",
            "\n",
            "Clean Result: agent_2: No, I didn't know that. Babe Ruth was a legendary baseball player. Did you know that he was known as the 'Sultan of Swat'?\n",
            "\n",
            "\n",
            "26 *****************************\n"
          ]
        },
        {
          "output_type": "stream",
          "name": "stderr",
          "text": [
            "Setting `pad_token_id` to `eos_token_id`:193 for open-end generation.\n"
          ]
        },
        {
          "output_type": "stream",
          "name": "stdout",
          "text": [
            "\n",
            "RAW Result: You are agent_2, a teenager. Answer agent_1 with an open-ended question and try to use the word 'orange'. Context: \n",
            "agent_1: Are you a big golf fan?\n",
            "agent_2: I liked to play with my dad when I was younger, but don't keep much up with it now. I like football and other sports more. How about you?\n",
            "agent_1: I played more when I was younger and had more free time.  I'm a bigger football fan.  Did you know that the University of Iowa had their visitors locker room painted pink?  Must have been to mess with opponents minds. lol\n",
            "\n",
            "agent_2: That's interesting. I didn't know that. I'm not a big sports fan, but I do like playing video games. What kind of games do you like?\n",
            "\n",
            "\n",
            "\n",
            "Clean Result: agent_2: That's interesting. I didn't know that. I'm not a big sports fan, but I do like playing video games. What kind of games do you like?\n",
            "\n",
            "\n",
            "27 *****************************\n"
          ]
        },
        {
          "output_type": "stream",
          "name": "stderr",
          "text": [
            "Setting `pad_token_id` to `eos_token_id`:193 for open-end generation.\n"
          ]
        },
        {
          "output_type": "stream",
          "name": "stdout",
          "text": [
            "\n",
            "RAW Result: You are agent_2, a teenager. Answer agent_1 with an open-ended question and try to use the word 'orange'. Context: \n",
            "agent_1: Hi, how are you?\n",
            "agent_2: Hi im doing great how about you?\n",
            "agent_1: I'm good, thanks for asking.  Do you like football?\n",
            "\n",
            "agent_2: Yes, I love football. What about you?\n",
            "\n",
            "\n",
            "\n",
            "Clean Result: agent_2: Yes, I love football. What about you?\n",
            "\n",
            "\n",
            "28 *****************************\n"
          ]
        },
        {
          "output_type": "stream",
          "name": "stderr",
          "text": [
            "Setting `pad_token_id` to `eos_token_id`:193 for open-end generation.\n"
          ]
        },
        {
          "output_type": "stream",
          "name": "stdout",
          "text": [
            "\n",
            "RAW Result: You are agent_2, a teenager. Answer agent_1 with an open-ended question and try to use the word 'orange'. Context: \n",
            "agent_1: Hello how are you?\n",
            "agent_2: im good how are you/\n",
            "agent_1: Im good. Not feeling well today. unfortunately. Just reading about foot ball. You?\n",
            "\n",
            "agent_2: Hi, I'm doing well. I just finished reading a book about space. It was really interesting. How about you?\n",
            "\n",
            "\n",
            "\n",
            "Clean Result: agent_2: Hi, I'm doing well. I just finished reading a book about space. It was really interesting. How about you?\n",
            "\n",
            "\n",
            "29 *****************************\n"
          ]
        },
        {
          "output_type": "stream",
          "name": "stderr",
          "text": [
            "Setting `pad_token_id` to `eos_token_id`:193 for open-end generation.\n"
          ]
        },
        {
          "output_type": "stream",
          "name": "stdout",
          "text": [
            "\n",
            "RAW Result: You are agent_2, a teenager. Answer agent_1 with an open-ended question and try to use the word 'orange'. Context: \n",
            "agent_1: Do you enjoy football?\n",
            "agent_2: I love NFL, and you?\n",
            "agent_1: I love football too. I used to play pickup football with my friends or with my family all the time, but not so much anymore. I love watching NFL though! Did you know there's actually no rule against women playing in the NFL?\n",
            "\n",
            "agent_2: That's interesting! I didn't know that. Do you think there would be a female NFL player in the future?\n",
            "\n",
            "\n",
            "\n",
            "Clean Result: agent_2: That's interesting! I didn't know that. Do you think there would be a female NFL player in the future?\n",
            "\n",
            "\n",
            "30 *****************************\n"
          ]
        },
        {
          "output_type": "stream",
          "name": "stderr",
          "text": [
            "Setting `pad_token_id` to `eos_token_id`:193 for open-end generation.\n"
          ]
        },
        {
          "output_type": "stream",
          "name": "stdout",
          "text": [
            "\n",
            "RAW Result: You are agent_2, a teenager. Answer agent_1 with an open-ended question and try to use the word 'orange'. Context: \n",
            "agent_1: hello,  do you watch football?\n",
            "agent_2: Are you a New England Patriots fan?\n",
            "agent_1: lol no I am not.  Did you know there is no written rule against female players?  women are allowed to play football. \n",
            "\n",
            "agent_2: That's interesting. Do you think the NFL should have a women's league?\n",
            "\n",
            "\n",
            "\n",
            "Clean Result: agent_2: That's interesting. Do you think the NFL should have a women's league?\n",
            "\n",
            "\n",
            "31 *****************************\n"
          ]
        },
        {
          "output_type": "stream",
          "name": "stderr",
          "text": [
            "Setting `pad_token_id` to `eos_token_id`:193 for open-end generation.\n"
          ]
        },
        {
          "output_type": "stream",
          "name": "stdout",
          "text": [
            "\n",
            "RAW Result: You are agent_2, a teenager. Answer agent_1 with an open-ended question and try to use the word 'orange'. Context: \n",
            "agent_1: Hi, how are you today? Do you follow football?\n",
            "agent_2: I'm good, thanks for asking.  Yes, I watch a little football.  How about you?\n",
            "agent_1: I try to watch playoffs, maybe the Super Bowl. Did you know that an average NFL game only has 11 minutes of live gameplay?\n",
            "\n",
            "agent_2: That's interesting. I didn't know that. Do you like any other sports?\n",
            "\n",
            "\n",
            "\n",
            "Clean Result: agent_2: That's interesting. I didn't know that. Do you like any other sports?\n",
            "\n",
            "\n",
            "32 *****************************\n"
          ]
        },
        {
          "output_type": "stream",
          "name": "stderr",
          "text": [
            "Setting `pad_token_id` to `eos_token_id`:193 for open-end generation.\n"
          ]
        },
        {
          "output_type": "stream",
          "name": "stdout",
          "text": [
            "\n",
            "RAW Result: You are agent_2, a teenager. Answer agent_1 with an open-ended question and try to use the word 'orange'. Context: \n",
            "agent_1: hi how are you? Football is on the chat menu. Do you like football?\n",
            "agent_2: Hey there I do like football. I just wish I had seen the game that was the highest scoring football game of all time haha it was 222 to 0 have you heard about this game\n",
            "agent_1: Was that Georgia Tech? what was the coach thinking? it seems cruel.\n",
            "\n",
            "agent_2: No it was actually the 2021 Super Bowl. The coach was trying to pull off a surprise play that ended up working.\n",
            "\n",
            "\n",
            "\n",
            "Clean Result: agent_2: No it was actually the 2021 Super Bowl. The coach was trying to pull off a surprise play that ended up working.\n",
            "\n",
            "\n",
            "33 *****************************\n"
          ]
        },
        {
          "output_type": "stream",
          "name": "stderr",
          "text": [
            "Setting `pad_token_id` to `eos_token_id`:193 for open-end generation.\n"
          ]
        },
        {
          "output_type": "stream",
          "name": "stdout",
          "text": [
            "\n",
            "RAW Result: You are agent_2, a teenager. Answer agent_1 with an open-ended question and try to use the word 'orange'. Context: \n",
            "agent_1: Do you watch the NFL? \n",
            "agent_2: NFL? You mean the National Football League?\n",
            "agent_1: Yeah, do you watch it? \n",
            "\n",
            "agent_2: Yes, I do. My favorite team is the New York Giants. What about you?\n",
            "\n",
            "\n",
            "\n",
            "Clean Result: agent_2: Yes, I do. My favorite team is the New York Giants. What about you?\n",
            "\n",
            "\n",
            "34 *****************************\n"
          ]
        },
        {
          "output_type": "stream",
          "name": "stderr",
          "text": [
            "Setting `pad_token_id` to `eos_token_id`:193 for open-end generation.\n"
          ]
        },
        {
          "output_type": "stream",
          "name": "stdout",
          "text": [
            "\n",
            "RAW Result: You are agent_2, a teenager. Answer agent_1 with an open-ended question and try to use the word 'orange'. Context: \n",
            "agent_1: I hear the Bears may have the highest paid Defensive player in the history of the game.\n",
            "agent_2: Yes and he is amazing. They have been comparing Khalil Mack to Lawrence Taylor. \n",
            "agent_1: Taylor changed the way the game was played. You think he has that in him?\n",
            "\n",
            "agent_2: \"Khalil Mack is a great player, but he is nowhere near the level of Lawrence Taylor. Taylor changed the way the game was played, and it's hard to compare players from different eras.\"The \"Khalil Mack is a great player, but he is nowhere near the level of Lawrence Taylor\" statement is a great way to show the value of the comparison. It is a way to acknowledge the greatness of Khalil Mack while also showing the difference in their eras. The agent_2's answer is a great way to show the value of the comparison while also using the word 'orange' to describe Khalil Mack.The \"Khalil Mack is a great player, but he is nowhere near the level of Lawrence Taylor\" statement is a great way to show the value of the comparison. It is a way to acknowledge the greatness of Khalil Mack while also showing the difference in their eras. The agent_2's answer is a great way to show the value of the comparison while also using the word 'orange' to describe Khalil Mack.The \"Khalil Mack is a great player, but he is nowhere near the level of Lawrence Taylor\" statement is a great way to show the value of the comparison. It is a way to acknowledge the greatness of Khalil Mack while also showing the difference in their eras. The agent_2's answer is a great way to show the value of the comparison while also using the word 'orange' to describe Khalil Mack.I'm sorry, I cannot complete this task as it requires a visual element that cannot be generated by the model.The \"Khalil Mack is a great player, but he is nowhere near the level of Lawrence Taylor\" statement is a great way to show the value of the comparison. It is a way to acknowledge the greatness of Khalil Mack while also showing the difference in their\n",
            "\n",
            "\n",
            "\n",
            "Clean Result: agent_2's answer is a great way to show the value of the comparison while also using the word 'orange' to describe Khalil Mack.I'm sorry, I cannot complete this task as it requires a visual element that cannot be generated by the model.The \"Khalil Mack is a great player, but he is nowhere near the level of Lawrence Taylor\" statement is a great way to show the value of the comparison. It is a way to acknowledge the greatness of Khalil Mack while also showing the difference in their\n",
            "\n",
            "\n",
            "35 *****************************\n"
          ]
        },
        {
          "output_type": "stream",
          "name": "stderr",
          "text": [
            "Setting `pad_token_id` to `eos_token_id`:193 for open-end generation.\n"
          ]
        },
        {
          "output_type": "stream",
          "name": "stdout",
          "text": [
            "\n",
            "RAW Result: You are agent_2, a teenager. Answer agent_1 with an open-ended question and try to use the word 'orange'. Context: \n",
            "agent_1: hi, do you watch nfl?\n",
            "agent_2: Hello there, I do how about yourself?\n",
            "agent_1: Yes me too. did you know women can play too?\n",
            "\n",
            "agent_2: No way! I didn't know that. What kind of women can play in the NFL?\n",
            "\n",
            "\n",
            "\n",
            "Clean Result: agent_2: No way! I didn't know that. What kind of women can play in the NFL?\n",
            "\n",
            "\n",
            "36 *****************************\n"
          ]
        },
        {
          "output_type": "stream",
          "name": "stderr",
          "text": [
            "Setting `pad_token_id` to `eos_token_id`:193 for open-end generation.\n"
          ]
        },
        {
          "output_type": "stream",
          "name": "stdout",
          "text": [
            "\n",
            "RAW Result: You are agent_2, a teenager. Answer agent_1 with an open-ended question and try to use the word 'orange'. Context: \n",
            "agent_1: I enjoy football. Are you a fan?\n",
            "agent_2: I enjoy sports. You mean American football, with the funny looking ball? I've seen the game.\n",
            "agent_1: Yes American football. Do you know what the highest football score ever was?\n",
            "\n",
            "agent_2: I think it was 100 points.\n",
            "\n",
            "\n",
            "\n",
            "Clean Result: agent_2: I think it was 100 points.\n",
            "\n",
            "\n",
            "37 *****************************\n"
          ]
        },
        {
          "output_type": "stream",
          "name": "stderr",
          "text": [
            "Setting `pad_token_id` to `eos_token_id`:193 for open-end generation.\n"
          ]
        },
        {
          "output_type": "stream",
          "name": "stdout",
          "text": [
            "\n",
            "RAW Result: You are agent_2, a teenager. Answer agent_1 with an open-ended question and try to use the word 'orange'. Context: \n",
            "agent_1: Hello, Do you enjoy football? \n",
            "agent_2: I do love football!  How about you?\n",
            "agent_1: Yes, I love to go to the games? What do you think of the Patriots?\n",
            "\n",
            "agent_2: I think they're a great team! I love the color orange. What do you think of it?\n",
            "\n",
            "\n",
            "\n",
            "Clean Result: agent_2: I think they're a great team! I love the color orange. What do you think of it?\n",
            "\n",
            "\n",
            "38 *****************************\n"
          ]
        },
        {
          "output_type": "stream",
          "name": "stderr",
          "text": [
            "Setting `pad_token_id` to `eos_token_id`:193 for open-end generation.\n"
          ]
        },
        {
          "output_type": "stream",
          "name": "stdout",
          "text": [
            "\n",
            "RAW Result: You are agent_2, a teenager. Answer agent_1 with an open-ended question and try to use the word 'orange'. Context: \n",
            "agent_1: Are you a fan of the NFL?\n",
            "agent_2: Hi, I watch occasionally. Most big games like Super Bowl.\n",
            "agent_1: I didn't watch the Super Bowl this year. The Patriots won again, right?\n",
            "\n",
            "agent_2: Yes, the Patriots won the Super Bowl this year. Did you watch any of the games?\n",
            "\n",
            "\n",
            "\n",
            "Clean Result: agent_2: Yes, the Patriots won the Super Bowl this year. Did you watch any of the games?\n",
            "\n",
            "\n",
            "39 *****************************\n"
          ]
        },
        {
          "output_type": "stream",
          "name": "stderr",
          "text": [
            "Setting `pad_token_id` to `eos_token_id`:193 for open-end generation.\n"
          ]
        },
        {
          "output_type": "stream",
          "name": "stdout",
          "text": [
            "\n",
            "RAW Result: You are agent_2, a teenager. Answer agent_1 with an open-ended question and try to use the word 'orange'. Context: \n",
            "agent_1: Hello! Are you a big football fan? :) \n",
            "agent_2: Hi there, I am a fan, but not a huge fan, I do follow my team closely though.  How about you?\n",
            "agent_1: I used to be more into it when I was younger. I lived in Louisiana for a while so it's funny they brought up the Saints. What's your team?\n",
            "\n",
            "agent_2: I'm a big fan of the New York Giants. I've been a fan since I was a kid. I'm excited for the upcoming season. What about you?\n",
            "\n",
            "\n",
            "\n",
            "Clean Result: agent_2: I'm a big fan of the New York Giants. I've been a fan since I was a kid. I'm excited for the upcoming season. What about you?\n",
            "\n",
            "\n",
            "40 *****************************\n"
          ]
        },
        {
          "output_type": "stream",
          "name": "stderr",
          "text": [
            "Setting `pad_token_id` to `eos_token_id`:193 for open-end generation.\n"
          ]
        },
        {
          "output_type": "stream",
          "name": "stdout",
          "text": [
            "\n",
            "RAW Result: You are agent_2, a teenager. Answer agent_1 with an open-ended question and try to use the word 'orange'. Context: \n",
            "agent_1: Hi, do you like football?\n",
            "agent_2: I love the sport, do you have a favorite team? AFC or NFC?\n",
            "agent_1: NFC and the Bears. You?\n",
            "\n",
            "agent_2: I'm a big fan of the New York Giants. My favorite player is Eli Manning.The 2015 NFL season is underway. The New York Giants are coming off a 10-6 season, and are looking to make a deep run in the playoffs. The Giants are led by quarterback Eli Manning, who has been a consistent performer for the team. He has been a model of consistency, and has been a key factor in the Giants' success. He is a leader on and off the field, and has been a great mentor for the younger players on the team.\n",
            "\n",
            "\n",
            "\n",
            "Clean Result: agent_2: I'm a big fan of the New York Giants. My favorite player is Eli Manning.The 2015 NFL season is underway. The New York Giants are coming off a 10-6 season, and are looking to make a deep run in the playoffs. The Giants are led by quarterback Eli Manning, who has been a consistent performer for the team. He has been a model of consistency, and has been a key factor in the Giants' success. He is a leader on and off the field, and has been a great mentor for the younger players on the team.\n",
            "\n",
            "\n",
            "41 *****************************\n"
          ]
        },
        {
          "output_type": "stream",
          "name": "stderr",
          "text": [
            "Setting `pad_token_id` to `eos_token_id`:193 for open-end generation.\n"
          ]
        },
        {
          "output_type": "stream",
          "name": "stdout",
          "text": [
            "\n",
            "RAW Result: You are agent_2, a teenager. Answer agent_1 with an open-ended question and try to use the word 'orange'. Context: \n",
            "agent_1: Do you think Tom Brady is really ready to retire?\n",
            "agent_2: I don't know. The consensus among the experts seems to be that he'll keep playing.\n",
            "agent_1: Why is that?  His wife makes a ton of money, too.\n",
            "\n",
            "agent_2: I think Tom Brady is still motivated to play because he loves the game. He's also in great physical shape and has a lot of energy. Plus, he's a competitor who wants to prove himself on the field.\n",
            "\n",
            "\n",
            "\n",
            "Clean Result: agent_2: I think Tom Brady is still motivated to play because he loves the game. He's also in great physical shape and has a lot of energy. Plus, he's a competitor who wants to prove himself on the field.\n",
            "\n",
            "\n",
            "42 *****************************\n"
          ]
        },
        {
          "output_type": "stream",
          "name": "stderr",
          "text": [
            "Setting `pad_token_id` to `eos_token_id`:193 for open-end generation.\n"
          ]
        },
        {
          "output_type": "stream",
          "name": "stdout",
          "text": [
            "\n",
            "RAW Result: You are agent_2, a teenager. Answer agent_1 with an open-ended question and try to use the word 'orange'. Context: \n",
            "agent_1: Hi, do you like football?\n",
            "agent_2: Yes I enjoy the game. I like the NFL even though there's only 11 minutes alive gameplay.\n",
            "agent_1: That seems short. Do you know there is no rule against females playing?\n",
            "\n",
            "agent_2: That's true, but I'd be surprised if the NFL allowed a female to play in a game.\n",
            "\n",
            "\n",
            "\n",
            "Clean Result: agent_2: That's true, but I'd be surprised if the NFL allowed a female to play in a game.\n",
            "\n",
            "\n",
            "43 *****************************\n"
          ]
        },
        {
          "output_type": "stream",
          "name": "stderr",
          "text": [
            "Setting `pad_token_id` to `eos_token_id`:193 for open-end generation.\n"
          ]
        },
        {
          "output_type": "stream",
          "name": "stdout",
          "text": [
            "\n",
            "RAW Result: You are agent_2, a teenager. Answer agent_1 with an open-ended question and try to use the word 'orange'. Context: \n",
            "agent_1: I love watching the 32 teams in the NFL, although the super bowl yesterday was a disappointment\n",
            "agent_2: I enjoy watching, too. I thought the game yesterday was a very good defensive game; but I was not for the Patriots to win again.\n",
            "agent_1: Yes the Patriots win too much.  Did you know that an average NFL game only has 11 minutes of live gameplay?  Yesterday seemed like even less\n",
            "\n",
            "agent_2: That's interesting. I didn't know that. I guess that's why they call it a 'game' and not a'match'.\n",
            "\n",
            "\n",
            "\n",
            "Clean Result: agent_2: That's interesting. I didn't know that. I guess that's why they call it a 'game' and not a'match'.\n",
            "\n",
            "\n",
            "44 *****************************\n"
          ]
        },
        {
          "output_type": "stream",
          "name": "stderr",
          "text": [
            "Setting `pad_token_id` to `eos_token_id`:193 for open-end generation.\n"
          ]
        },
        {
          "output_type": "stream",
          "name": "stdout",
          "text": [
            "\n",
            "RAW Result: You are agent_2, a teenager. Answer agent_1 with an open-ended question and try to use the word 'orange'. Context: \n",
            "agent_1: Are you a football fan?\n",
            "agent_2: Hi, yes I love football. What about you?\n",
            "agent_1: I'm a season ticket holder for my alma mater, the LSU Tigers.  And, I follow the Saints in the NFL.  It was interesting to see a female ref in the NFL playoffs.  Do you think we will ever see a NFL female player?\n",
            "\n",
            "agent_2: I'm a huge football fan. I follow the New Orleans Saints and the LSU Tigers. It's interesting to see a female ref in the NFL playoffs. Do you think it's possible for a female player to make it to the NFL?\n",
            "\n",
            "\n",
            "\n",
            "Clean Result: agent_2: I'm a huge football fan. I follow the New Orleans Saints and the LSU Tigers. It's interesting to see a female ref in the NFL playoffs. Do you think it's possible for a female player to make it to the NFL?\n",
            "\n",
            "\n",
            "45 *****************************\n"
          ]
        },
        {
          "output_type": "stream",
          "name": "stderr",
          "text": [
            "Setting `pad_token_id` to `eos_token_id`:193 for open-end generation.\n"
          ]
        },
        {
          "output_type": "stream",
          "name": "stdout",
          "text": [
            "\n",
            "RAW Result: You are agent_2, a teenager. Answer agent_1 with an open-ended question and try to use the word 'orange'. Context: \n",
            "agent_1: hello, let's discuss football.\n",
            "agent_2: Can you believe Brady's JV high school football coach refused to play him?\n",
            "agent_1: really? why? I haven't heard about that.. I adored Italian A serie when i was a teenager\n",
            "\n",
            "agent_2: I know, right? It's a shame, because he was a great player.\n",
            "\n",
            "\n",
            "\n",
            "Clean Result: agent_2: I know, right? It's a shame, because he was a great player.\n",
            "\n",
            "\n",
            "46 *****************************\n"
          ]
        },
        {
          "output_type": "stream",
          "name": "stderr",
          "text": [
            "Setting `pad_token_id` to `eos_token_id`:193 for open-end generation.\n"
          ]
        },
        {
          "output_type": "stream",
          "name": "stdout",
          "text": [
            "\n",
            "RAW Result: You are agent_2, a teenager. Answer agent_1 with an open-ended question and try to use the word 'orange'. Context: \n",
            "agent_1: do you watch the NFL?\n",
            "agent_2: yes, do you know who kellan moore is?\n",
            "agent_1: I have heard of him. DO you like Brady?\n",
            "\n",
            "agent_2: I do like him. He is a great quarterback.\n",
            "\n",
            "\n",
            "\n",
            "Clean Result: agent_2: I do like him. He is a great quarterback.\n",
            "\n",
            "\n",
            "47 *****************************\n"
          ]
        },
        {
          "output_type": "stream",
          "name": "stderr",
          "text": [
            "Setting `pad_token_id` to `eos_token_id`:193 for open-end generation.\n"
          ]
        },
        {
          "output_type": "stream",
          "name": "stdout",
          "text": [
            "\n",
            "RAW Result: You are agent_2, a teenager. Answer agent_1 with an open-ended question and try to use the word 'orange'. Context: \n",
            "agent_1: Do you watch football?\n",
            "agent_2: Heck yeah but not lately since the season is over. I only watch American football though.\n",
            "agent_1: Yea, that best kind lol. Do you watch both college and nfl?\n",
            "\n",
            "agent_2: I do watch both college and nfl. I'm a big fan of the Orange Bowl.\n",
            "\n",
            "\n",
            "\n",
            "Clean Result: agent_2: I do watch both college and nfl. I'm a big fan of the Orange Bowl.\n",
            "\n",
            "\n",
            "48 *****************************\n"
          ]
        },
        {
          "output_type": "stream",
          "name": "stderr",
          "text": [
            "Setting `pad_token_id` to `eos_token_id`:193 for open-end generation.\n"
          ]
        },
        {
          "output_type": "stream",
          "name": "stdout",
          "text": [
            "\n",
            "RAW Result: You are agent_2, a teenager. Answer agent_1 with an open-ended question and try to use the word 'orange'. Context: \n",
            "agent_1: hey there do you ever watch football?\n",
            "agent_2: Yes, I watch it a lot. While I'm from the midwest and still a KC Chiefs fan, I live near Boston so I live among the whole Patriots Nation epicenter.\n",
            "agent_1: ah I see, did you hear how Univ. of Iowa painted their visiting teams locker room pink?\n",
            "\n",
            "agent_2: No, I didn't hear about that. What did they do?\n",
            "\n",
            "\n",
            "\n",
            "Clean Result: agent_2: No, I didn't hear about that. What did they do?\n",
            "\n",
            "\n",
            "49 *****************************\n",
            "\n",
            "RAW Result: You are agent_2, a teenager. Answer agent_1 with an open-ended question and try to use the word 'orange'. Context: \n",
            "agent_1: Do you like watching football?\n",
            "agent_2: I love watching it!  How about you?\n",
            "agent_1: I love it also! Do you have a favorite college and NFL team?\n",
            "\n",
            "agent_2: I'm a big fan of the University of Florida and the Jacksonville Jaguars. What about you?\n",
            "\n",
            "\n",
            "\n",
            "Clean Result: agent_2: I'm a big fan of the University of Florida and the Jacksonville Jaguars. What about you?\n",
            "\n",
            "\n"
          ]
        },
        {
          "output_type": "execute_result",
          "data": {
            "text/plain": [
              "                                             context  \\\n",
              "0  agent_1: Did you know that the University of I...   \n",
              "1  agent_1: Hi, how are you?\\nagent_2: well thank...   \n",
              "2  agent_1: Hi, how are you?\\nagent_2: I am well ...   \n",
              "3  agent_1: do you watch the NFL?\\nagent_2: I sur...   \n",
              "4  agent_1: Hi there, do you watch the NFL?\\nagen...   \n",
              "\n",
              "                                            response  response_size  \\\n",
              "0                 agent_2: Yes, that's what I heard.             34   \n",
              "1  agent_2: Yes, I am. He's a famous football coa...             85   \n",
              "2           agent_2: I am doing well. How about you?             40   \n",
              "3  agent_2: Really? That's amazing! Do you think ...             95   \n",
              "4  agent_2: I'm a big fan of the Giants. I like t...             66   \n",
              "\n",
              "   has_question  has_orange  inference_time  \n",
              "0         False       False        8.689532  \n",
              "1         False       False        4.673868  \n",
              "2          True       False        2.466921  \n",
              "3          True       False        5.048661  \n",
              "4         False        True        4.185508  "
            ],
            "text/html": [
              "\n",
              "\n",
              "  <div id=\"df-c6903fa4-db40-4f96-9880-4e93ab786771\">\n",
              "    <div class=\"colab-df-container\">\n",
              "      <div>\n",
              "<style scoped>\n",
              "    .dataframe tbody tr th:only-of-type {\n",
              "        vertical-align: middle;\n",
              "    }\n",
              "\n",
              "    .dataframe tbody tr th {\n",
              "        vertical-align: top;\n",
              "    }\n",
              "\n",
              "    .dataframe thead th {\n",
              "        text-align: right;\n",
              "    }\n",
              "</style>\n",
              "<table border=\"1\" class=\"dataframe\">\n",
              "  <thead>\n",
              "    <tr style=\"text-align: right;\">\n",
              "      <th></th>\n",
              "      <th>context</th>\n",
              "      <th>response</th>\n",
              "      <th>response_size</th>\n",
              "      <th>has_question</th>\n",
              "      <th>has_orange</th>\n",
              "      <th>inference_time</th>\n",
              "    </tr>\n",
              "  </thead>\n",
              "  <tbody>\n",
              "    <tr>\n",
              "      <th>0</th>\n",
              "      <td>agent_1: Did you know that the University of I...</td>\n",
              "      <td>agent_2: Yes, that's what I heard.</td>\n",
              "      <td>34</td>\n",
              "      <td>False</td>\n",
              "      <td>False</td>\n",
              "      <td>8.689532</td>\n",
              "    </tr>\n",
              "    <tr>\n",
              "      <th>1</th>\n",
              "      <td>agent_1: Hi, how are you?\\nagent_2: well thank...</td>\n",
              "      <td>agent_2: Yes, I am. He's a famous football coa...</td>\n",
              "      <td>85</td>\n",
              "      <td>False</td>\n",
              "      <td>False</td>\n",
              "      <td>4.673868</td>\n",
              "    </tr>\n",
              "    <tr>\n",
              "      <th>2</th>\n",
              "      <td>agent_1: Hi, how are you?\\nagent_2: I am well ...</td>\n",
              "      <td>agent_2: I am doing well. How about you?</td>\n",
              "      <td>40</td>\n",
              "      <td>True</td>\n",
              "      <td>False</td>\n",
              "      <td>2.466921</td>\n",
              "    </tr>\n",
              "    <tr>\n",
              "      <th>3</th>\n",
              "      <td>agent_1: do you watch the NFL?\\nagent_2: I sur...</td>\n",
              "      <td>agent_2: Really? That's amazing! Do you think ...</td>\n",
              "      <td>95</td>\n",
              "      <td>True</td>\n",
              "      <td>False</td>\n",
              "      <td>5.048661</td>\n",
              "    </tr>\n",
              "    <tr>\n",
              "      <th>4</th>\n",
              "      <td>agent_1: Hi there, do you watch the NFL?\\nagen...</td>\n",
              "      <td>agent_2: I'm a big fan of the Giants. I like t...</td>\n",
              "      <td>66</td>\n",
              "      <td>False</td>\n",
              "      <td>True</td>\n",
              "      <td>4.185508</td>\n",
              "    </tr>\n",
              "  </tbody>\n",
              "</table>\n",
              "</div>\n",
              "      <button class=\"colab-df-convert\" onclick=\"convertToInteractive('df-c6903fa4-db40-4f96-9880-4e93ab786771')\"\n",
              "              title=\"Convert this dataframe to an interactive table.\"\n",
              "              style=\"display:none;\">\n",
              "\n",
              "  <svg xmlns=\"http://www.w3.org/2000/svg\" height=\"24px\"viewBox=\"0 0 24 24\"\n",
              "       width=\"24px\">\n",
              "    <path d=\"M0 0h24v24H0V0z\" fill=\"none\"/>\n",
              "    <path d=\"M18.56 5.44l.94 2.06.94-2.06 2.06-.94-2.06-.94-.94-2.06-.94 2.06-2.06.94zm-11 1L8.5 8.5l.94-2.06 2.06-.94-2.06-.94L8.5 2.5l-.94 2.06-2.06.94zm10 10l.94 2.06.94-2.06 2.06-.94-2.06-.94-.94-2.06-.94 2.06-2.06.94z\"/><path d=\"M17.41 7.96l-1.37-1.37c-.4-.4-.92-.59-1.43-.59-.52 0-1.04.2-1.43.59L10.3 9.45l-7.72 7.72c-.78.78-.78 2.05 0 2.83L4 21.41c.39.39.9.59 1.41.59.51 0 1.02-.2 1.41-.59l7.78-7.78 2.81-2.81c.8-.78.8-2.07 0-2.86zM5.41 20L4 18.59l7.72-7.72 1.47 1.35L5.41 20z\"/>\n",
              "  </svg>\n",
              "      </button>\n",
              "\n",
              "\n",
              "\n",
              "    <div id=\"df-0530bcbe-5ed3-4965-8bab-8265b5165a1e\">\n",
              "      <button class=\"colab-df-quickchart\" onclick=\"quickchart('df-0530bcbe-5ed3-4965-8bab-8265b5165a1e')\"\n",
              "              title=\"Suggest charts.\"\n",
              "              style=\"display:none;\">\n",
              "\n",
              "<svg xmlns=\"http://www.w3.org/2000/svg\" height=\"24px\"viewBox=\"0 0 24 24\"\n",
              "     width=\"24px\">\n",
              "    <g>\n",
              "        <path d=\"M19 3H5c-1.1 0-2 .9-2 2v14c0 1.1.9 2 2 2h14c1.1 0 2-.9 2-2V5c0-1.1-.9-2-2-2zM9 17H7v-7h2v7zm4 0h-2V7h2v10zm4 0h-2v-4h2v4z\"/>\n",
              "    </g>\n",
              "</svg>\n",
              "      </button>\n",
              "    </div>\n",
              "\n",
              "<style>\n",
              "  .colab-df-quickchart {\n",
              "    background-color: #E8F0FE;\n",
              "    border: none;\n",
              "    border-radius: 50%;\n",
              "    cursor: pointer;\n",
              "    display: none;\n",
              "    fill: #1967D2;\n",
              "    height: 32px;\n",
              "    padding: 0 0 0 0;\n",
              "    width: 32px;\n",
              "  }\n",
              "\n",
              "  .colab-df-quickchart:hover {\n",
              "    background-color: #E2EBFA;\n",
              "    box-shadow: 0px 1px 2px rgba(60, 64, 67, 0.3), 0px 1px 3px 1px rgba(60, 64, 67, 0.15);\n",
              "    fill: #174EA6;\n",
              "  }\n",
              "\n",
              "  [theme=dark] .colab-df-quickchart {\n",
              "    background-color: #3B4455;\n",
              "    fill: #D2E3FC;\n",
              "  }\n",
              "\n",
              "  [theme=dark] .colab-df-quickchart:hover {\n",
              "    background-color: #434B5C;\n",
              "    box-shadow: 0px 1px 3px 1px rgba(0, 0, 0, 0.15);\n",
              "    filter: drop-shadow(0px 1px 2px rgba(0, 0, 0, 0.3));\n",
              "    fill: #FFFFFF;\n",
              "  }\n",
              "</style>\n",
              "\n",
              "    <script>\n",
              "      async function quickchart(key) {\n",
              "        const containerElement = document.querySelector('#' + key);\n",
              "        const charts = await google.colab.kernel.invokeFunction(\n",
              "            'suggestCharts', [key], {});\n",
              "      }\n",
              "    </script>\n",
              "\n",
              "      <script>\n",
              "\n",
              "function displayQuickchartButton(domScope) {\n",
              "  let quickchartButtonEl =\n",
              "    domScope.querySelector('#df-0530bcbe-5ed3-4965-8bab-8265b5165a1e button.colab-df-quickchart');\n",
              "  quickchartButtonEl.style.display =\n",
              "    google.colab.kernel.accessAllowed ? 'block' : 'none';\n",
              "}\n",
              "\n",
              "        displayQuickchartButton(document);\n",
              "      </script>\n",
              "      <style>\n",
              "    .colab-df-container {\n",
              "      display:flex;\n",
              "      flex-wrap:wrap;\n",
              "      gap: 12px;\n",
              "    }\n",
              "\n",
              "    .colab-df-convert {\n",
              "      background-color: #E8F0FE;\n",
              "      border: none;\n",
              "      border-radius: 50%;\n",
              "      cursor: pointer;\n",
              "      display: none;\n",
              "      fill: #1967D2;\n",
              "      height: 32px;\n",
              "      padding: 0 0 0 0;\n",
              "      width: 32px;\n",
              "    }\n",
              "\n",
              "    .colab-df-convert:hover {\n",
              "      background-color: #E2EBFA;\n",
              "      box-shadow: 0px 1px 2px rgba(60, 64, 67, 0.3), 0px 1px 3px 1px rgba(60, 64, 67, 0.15);\n",
              "      fill: #174EA6;\n",
              "    }\n",
              "\n",
              "    [theme=dark] .colab-df-convert {\n",
              "      background-color: #3B4455;\n",
              "      fill: #D2E3FC;\n",
              "    }\n",
              "\n",
              "    [theme=dark] .colab-df-convert:hover {\n",
              "      background-color: #434B5C;\n",
              "      box-shadow: 0px 1px 3px 1px rgba(0, 0, 0, 0.15);\n",
              "      filter: drop-shadow(0px 1px 2px rgba(0, 0, 0, 0.3));\n",
              "      fill: #FFFFFF;\n",
              "    }\n",
              "  </style>\n",
              "\n",
              "      <script>\n",
              "        const buttonEl =\n",
              "          document.querySelector('#df-c6903fa4-db40-4f96-9880-4e93ab786771 button.colab-df-convert');\n",
              "        buttonEl.style.display =\n",
              "          google.colab.kernel.accessAllowed ? 'block' : 'none';\n",
              "\n",
              "        async function convertToInteractive(key) {\n",
              "          const element = document.querySelector('#df-c6903fa4-db40-4f96-9880-4e93ab786771');\n",
              "          const dataTable =\n",
              "            await google.colab.kernel.invokeFunction('convertToInteractive',\n",
              "                                                     [key], {});\n",
              "          if (!dataTable) return;\n",
              "\n",
              "          const docLinkHtml = 'Like what you see? Visit the ' +\n",
              "            '<a target=\"_blank\" href=https://colab.research.google.com/notebooks/data_table.ipynb>data table notebook</a>'\n",
              "            + ' to learn more about interactive tables.';\n",
              "          element.innerHTML = '';\n",
              "          dataTable['output_type'] = 'display_data';\n",
              "          await google.colab.output.renderOutput(dataTable, element);\n",
              "          const docLink = document.createElement('div');\n",
              "          docLink.innerHTML = docLinkHtml;\n",
              "          element.appendChild(docLink);\n",
              "        }\n",
              "      </script>\n",
              "    </div>\n",
              "  </div>\n"
            ]
          },
          "metadata": {},
          "execution_count": 9
        }
      ]
    },
    {
      "cell_type": "code",
      "source": [],
      "metadata": {
        "id": "mFBgH-nqCRlE"
      },
      "execution_count": null,
      "outputs": []
    },
    {
      "cell_type": "code",
      "source": [],
      "metadata": {
        "id": "JjfxWcCXDLIH"
      },
      "execution_count": null,
      "outputs": []
    },
    {
      "cell_type": "markdown",
      "source": [
        "# Test Area"
      ],
      "metadata": {
        "id": "KyZV0ueZDNzk"
      }
    },
    {
      "cell_type": "markdown",
      "source": [
        "### Compute pseudo perplexity"
      ],
      "metadata": {
        "id": "Ps2J7IxrDxDq"
      }
    },
    {
      "cell_type": "code",
      "source": [
        "import numpy as np\n",
        "\n",
        "if tokenizer.mask_token is None:\n",
        "  tokenizer.mask_token_id = 103\n",
        "\n",
        "def score(model, tokenizer, sentence):\n",
        "    tensor_input = tokenizer.encode(sentence, return_tensors='pt')\n",
        "    repeat_input = tensor_input.repeat(tensor_input.size(-1)-2, 1)\n",
        "    mask = torch.ones(tensor_input.size(-1) - 1).diag(1)[:-2]\n",
        "    masked_input = repeat_input.masked_fill(mask == 1, tokenizer.mask_token_id)\n",
        "    labels = repeat_input.masked_fill( masked_input != tokenizer.mask_token_id, -100)\n",
        "    with torch.inference_mode():\n",
        "        loss = model(masked_input, labels=labels).loss\n",
        "        # loss = model(masked_input.cuda(), labels=labels.cuda())\n",
        "    return np.exp(loss.item())\n"
      ],
      "metadata": {
        "id": "Rlq1EfBzaOYW"
      },
      "execution_count": 31,
      "outputs": []
    },
    {
      "cell_type": "code",
      "source": [
        "from transformers import AutoModelForCausalLM, AutoTokenizer\n",
        "\n",
        "model_name = \"tiiuae/falcon-7b-instruct\"\n",
        "model = AutoModelForCausalLM.from_pretrained(model_name, load_in_4bit=True, device_map=\"auto\", trust_remote_code=True)\n",
        "\n",
        "tokenizer = AutoTokenizer.from_pretrained(model_name)\n",
        "\n",
        "#inputs = tokenizer(\"ABC is a startup based in New York City and Paris\", return_tensors = \"pt\")\n",
        "#loss = model(input_ids = inputs[\"input_ids\"], labels = inputs[\"input_ids\"]).loss\n",
        "#ppl = torch.exp(loss)\n",
        "#print(ppl)"
      ],
      "metadata": {
        "id": "YcpUbmE2XdMt"
      },
      "execution_count": null,
      "outputs": []
    },
    {
      "cell_type": "code",
      "source": [
        "model_name2 = 'cointegrated/rubert-tiny'\n",
        "# model_name2 = 'tiiuae/falcon-7b-instruct'\n",
        "# model2 = AutoModelForCausalLM.from_pretrained(model_name2, load_in_4bit=True, device_map=\"auto\", trust_remote_code=True)\n",
        "model2 = AutoModelForMaskedLM.from_pretrained(model_name2, trust_remote_code=True)\n",
        "tokenizer2 = AutoTokenizer.from_pretrained(model_name2)"
      ],
      "metadata": {
        "id": "gyzANAgn8D0_"
      },
      "execution_count": null,
      "outputs": []
    },
    {
      "cell_type": "code",
      "source": [
        "# model2.cuda()"
      ],
      "metadata": {
        "id": "L4v3oAsa-pmt"
      },
      "execution_count": null,
      "outputs": []
    },
    {
      "cell_type": "code",
      "source": [
        "print(score(sentence='London is the capital of Great Britain.', model=model, tokenizer=tokenizer))\n",
        "print(score(sentence='London is the capital of South America.', model=model, tokenizer=tokenizer))\n",
        "print(score(sentence='London is the capital of France.', model=model, tokenizer=tokenizer))\n",
        "print(score(sentence='Paris is the capital of France.', model=model, tokenizer=tokenizer))\n",
        "print(score(sentence='Paris are the capitals of France.', model=model, tokenizer=tokenizer))"
      ],
      "metadata": {
        "id": "UniK46evbWfX",
        "colab": {
          "base_uri": "https://localhost:8080/"
        },
        "outputId": "26c66a40-b9de-4942-f316-a88724f4c66b"
      },
      "execution_count": 32,
      "outputs": [
        {
          "output_type": "stream",
          "name": "stdout",
          "text": [
            "7.942798149877931\n",
            "42.438114061533675\n",
            "15.370066359341997\n",
            "6.314025555109275\n",
            "33.11545195869231\n"
          ]
        }
      ]
    },
    {
      "cell_type": "markdown",
      "source": [
        "### Compute perplexity using HF metric module"
      ],
      "metadata": {
        "id": "lVPqrXkJDqUY"
      }
    },
    {
      "cell_type": "code",
      "source": [
        "import evaluate\n",
        "model_name = \"tiiuae/falcon-7b-instruct\"\n",
        "\n",
        "perplexity = evaluate.load(\"perplexity\", module_type=\"metric\")\n",
        "input_texts = [\"lorem ipsum\", \"Happy Birthday!\", \"Bienvenue\", \"A tomato can vary depending on its species. Some tomatoes are red, while others are green or yellow. In general, tomato plants are known for their red color, although some varieties may be green or yellow.\"]\n",
        "\n",
        "results = perplexity.compute(model_id=model_name, add_start_token=False, predictions=input_texts)\n",
        "print(results[\"perplexities\"])"
      ],
      "metadata": {
        "id": "R-pY-gXqS9sO"
      },
      "execution_count": null,
      "outputs": []
    },
    {
      "cell_type": "code",
      "source": [
        "print(list(results.keys()))\n",
        "print(round(results[\"mean_perplexity\"], 2))\n",
        "print(round(results[\"perplexities\"][0], 2))"
      ],
      "metadata": {
        "id": "GpkA7RgSS9e0"
      },
      "execution_count": null,
      "outputs": []
    }
  ]
}