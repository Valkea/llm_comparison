{
  "nbformat": 4,
  "nbformat_minor": 0,
  "metadata": {
    "colab": {
      "provenance": [],
      "gpuType": "V100",
      "machine_shape": "hm",
      "cell_execution_strategy": "setup"
    },
    "kernelspec": {
      "name": "python3",
      "display_name": "Python 3"
    },
    "language_info": {
      "name": "python"
    },
    "accelerator": "GPU",
    "widgets": {
      "application/vnd.jupyter.widget-state+json": {
        "75b6a356ec3042f0b72ec7d344e9c52b": {
          "model_module": "@jupyter-widgets/controls",
          "model_name": "HBoxModel",
          "model_module_version": "1.5.0",
          "state": {
            "_dom_classes": [],
            "_model_module": "@jupyter-widgets/controls",
            "_model_module_version": "1.5.0",
            "_model_name": "HBoxModel",
            "_view_count": null,
            "_view_module": "@jupyter-widgets/controls",
            "_view_module_version": "1.5.0",
            "_view_name": "HBoxView",
            "box_style": "",
            "children": [
              "IPY_MODEL_53a80a9973b84f0f82f6722e7218f962",
              "IPY_MODEL_8ab3508a1b064719a1e44ff6ccb7b577",
              "IPY_MODEL_9551923ceb534c9ca583075cf371447c"
            ],
            "layout": "IPY_MODEL_ad03ec80d8004f43a20ea2a775a0a890"
          }
        },
        "53a80a9973b84f0f82f6722e7218f962": {
          "model_module": "@jupyter-widgets/controls",
          "model_name": "HTMLModel",
          "model_module_version": "1.5.0",
          "state": {
            "_dom_classes": [],
            "_model_module": "@jupyter-widgets/controls",
            "_model_module_version": "1.5.0",
            "_model_name": "HTMLModel",
            "_view_count": null,
            "_view_module": "@jupyter-widgets/controls",
            "_view_module_version": "1.5.0",
            "_view_name": "HTMLView",
            "description": "",
            "description_tooltip": null,
            "layout": "IPY_MODEL_70d9daeef3594b1e89199fa1613d31a3",
            "placeholder": "​",
            "style": "IPY_MODEL_ea90a6fb6e2e46279b1d1b0420046266",
            "value": "Loading checkpoint shards: 100%"
          }
        },
        "8ab3508a1b064719a1e44ff6ccb7b577": {
          "model_module": "@jupyter-widgets/controls",
          "model_name": "FloatProgressModel",
          "model_module_version": "1.5.0",
          "state": {
            "_dom_classes": [],
            "_model_module": "@jupyter-widgets/controls",
            "_model_module_version": "1.5.0",
            "_model_name": "FloatProgressModel",
            "_view_count": null,
            "_view_module": "@jupyter-widgets/controls",
            "_view_module_version": "1.5.0",
            "_view_name": "ProgressView",
            "bar_style": "success",
            "description": "",
            "description_tooltip": null,
            "layout": "IPY_MODEL_17613fad4b334682b543e71185b29357",
            "max": 2,
            "min": 0,
            "orientation": "horizontal",
            "style": "IPY_MODEL_65e048ddf9664ada95b7023b4da73e87",
            "value": 2
          }
        },
        "9551923ceb534c9ca583075cf371447c": {
          "model_module": "@jupyter-widgets/controls",
          "model_name": "HTMLModel",
          "model_module_version": "1.5.0",
          "state": {
            "_dom_classes": [],
            "_model_module": "@jupyter-widgets/controls",
            "_model_module_version": "1.5.0",
            "_model_name": "HTMLModel",
            "_view_count": null,
            "_view_module": "@jupyter-widgets/controls",
            "_view_module_version": "1.5.0",
            "_view_name": "HTMLView",
            "description": "",
            "description_tooltip": null,
            "layout": "IPY_MODEL_181cd5a5663642b4a43d9200167a0dfa",
            "placeholder": "​",
            "style": "IPY_MODEL_df10319882a74c008be23a556616d860",
            "value": " 2/2 [03:31&lt;00:00, 92.68s/it]"
          }
        },
        "ad03ec80d8004f43a20ea2a775a0a890": {
          "model_module": "@jupyter-widgets/base",
          "model_name": "LayoutModel",
          "model_module_version": "1.2.0",
          "state": {
            "_model_module": "@jupyter-widgets/base",
            "_model_module_version": "1.2.0",
            "_model_name": "LayoutModel",
            "_view_count": null,
            "_view_module": "@jupyter-widgets/base",
            "_view_module_version": "1.2.0",
            "_view_name": "LayoutView",
            "align_content": null,
            "align_items": null,
            "align_self": null,
            "border": null,
            "bottom": null,
            "display": null,
            "flex": null,
            "flex_flow": null,
            "grid_area": null,
            "grid_auto_columns": null,
            "grid_auto_flow": null,
            "grid_auto_rows": null,
            "grid_column": null,
            "grid_gap": null,
            "grid_row": null,
            "grid_template_areas": null,
            "grid_template_columns": null,
            "grid_template_rows": null,
            "height": null,
            "justify_content": null,
            "justify_items": null,
            "left": null,
            "margin": null,
            "max_height": null,
            "max_width": null,
            "min_height": null,
            "min_width": null,
            "object_fit": null,
            "object_position": null,
            "order": null,
            "overflow": null,
            "overflow_x": null,
            "overflow_y": null,
            "padding": null,
            "right": null,
            "top": null,
            "visibility": null,
            "width": null
          }
        },
        "70d9daeef3594b1e89199fa1613d31a3": {
          "model_module": "@jupyter-widgets/base",
          "model_name": "LayoutModel",
          "model_module_version": "1.2.0",
          "state": {
            "_model_module": "@jupyter-widgets/base",
            "_model_module_version": "1.2.0",
            "_model_name": "LayoutModel",
            "_view_count": null,
            "_view_module": "@jupyter-widgets/base",
            "_view_module_version": "1.2.0",
            "_view_name": "LayoutView",
            "align_content": null,
            "align_items": null,
            "align_self": null,
            "border": null,
            "bottom": null,
            "display": null,
            "flex": null,
            "flex_flow": null,
            "grid_area": null,
            "grid_auto_columns": null,
            "grid_auto_flow": null,
            "grid_auto_rows": null,
            "grid_column": null,
            "grid_gap": null,
            "grid_row": null,
            "grid_template_areas": null,
            "grid_template_columns": null,
            "grid_template_rows": null,
            "height": null,
            "justify_content": null,
            "justify_items": null,
            "left": null,
            "margin": null,
            "max_height": null,
            "max_width": null,
            "min_height": null,
            "min_width": null,
            "object_fit": null,
            "object_position": null,
            "order": null,
            "overflow": null,
            "overflow_x": null,
            "overflow_y": null,
            "padding": null,
            "right": null,
            "top": null,
            "visibility": null,
            "width": null
          }
        },
        "ea90a6fb6e2e46279b1d1b0420046266": {
          "model_module": "@jupyter-widgets/controls",
          "model_name": "DescriptionStyleModel",
          "model_module_version": "1.5.0",
          "state": {
            "_model_module": "@jupyter-widgets/controls",
            "_model_module_version": "1.5.0",
            "_model_name": "DescriptionStyleModel",
            "_view_count": null,
            "_view_module": "@jupyter-widgets/base",
            "_view_module_version": "1.2.0",
            "_view_name": "StyleView",
            "description_width": ""
          }
        },
        "17613fad4b334682b543e71185b29357": {
          "model_module": "@jupyter-widgets/base",
          "model_name": "LayoutModel",
          "model_module_version": "1.2.0",
          "state": {
            "_model_module": "@jupyter-widgets/base",
            "_model_module_version": "1.2.0",
            "_model_name": "LayoutModel",
            "_view_count": null,
            "_view_module": "@jupyter-widgets/base",
            "_view_module_version": "1.2.0",
            "_view_name": "LayoutView",
            "align_content": null,
            "align_items": null,
            "align_self": null,
            "border": null,
            "bottom": null,
            "display": null,
            "flex": null,
            "flex_flow": null,
            "grid_area": null,
            "grid_auto_columns": null,
            "grid_auto_flow": null,
            "grid_auto_rows": null,
            "grid_column": null,
            "grid_gap": null,
            "grid_row": null,
            "grid_template_areas": null,
            "grid_template_columns": null,
            "grid_template_rows": null,
            "height": null,
            "justify_content": null,
            "justify_items": null,
            "left": null,
            "margin": null,
            "max_height": null,
            "max_width": null,
            "min_height": null,
            "min_width": null,
            "object_fit": null,
            "object_position": null,
            "order": null,
            "overflow": null,
            "overflow_x": null,
            "overflow_y": null,
            "padding": null,
            "right": null,
            "top": null,
            "visibility": null,
            "width": null
          }
        },
        "65e048ddf9664ada95b7023b4da73e87": {
          "model_module": "@jupyter-widgets/controls",
          "model_name": "ProgressStyleModel",
          "model_module_version": "1.5.0",
          "state": {
            "_model_module": "@jupyter-widgets/controls",
            "_model_module_version": "1.5.0",
            "_model_name": "ProgressStyleModel",
            "_view_count": null,
            "_view_module": "@jupyter-widgets/base",
            "_view_module_version": "1.2.0",
            "_view_name": "StyleView",
            "bar_color": null,
            "description_width": ""
          }
        },
        "181cd5a5663642b4a43d9200167a0dfa": {
          "model_module": "@jupyter-widgets/base",
          "model_name": "LayoutModel",
          "model_module_version": "1.2.0",
          "state": {
            "_model_module": "@jupyter-widgets/base",
            "_model_module_version": "1.2.0",
            "_model_name": "LayoutModel",
            "_view_count": null,
            "_view_module": "@jupyter-widgets/base",
            "_view_module_version": "1.2.0",
            "_view_name": "LayoutView",
            "align_content": null,
            "align_items": null,
            "align_self": null,
            "border": null,
            "bottom": null,
            "display": null,
            "flex": null,
            "flex_flow": null,
            "grid_area": null,
            "grid_auto_columns": null,
            "grid_auto_flow": null,
            "grid_auto_rows": null,
            "grid_column": null,
            "grid_gap": null,
            "grid_row": null,
            "grid_template_areas": null,
            "grid_template_columns": null,
            "grid_template_rows": null,
            "height": null,
            "justify_content": null,
            "justify_items": null,
            "left": null,
            "margin": null,
            "max_height": null,
            "max_width": null,
            "min_height": null,
            "min_width": null,
            "object_fit": null,
            "object_position": null,
            "order": null,
            "overflow": null,
            "overflow_x": null,
            "overflow_y": null,
            "padding": null,
            "right": null,
            "top": null,
            "visibility": null,
            "width": null
          }
        },
        "df10319882a74c008be23a556616d860": {
          "model_module": "@jupyter-widgets/controls",
          "model_name": "DescriptionStyleModel",
          "model_module_version": "1.5.0",
          "state": {
            "_model_module": "@jupyter-widgets/controls",
            "_model_module_version": "1.5.0",
            "_model_name": "DescriptionStyleModel",
            "_view_count": null,
            "_view_module": "@jupyter-widgets/base",
            "_view_module_version": "1.2.0",
            "_view_name": "StyleView",
            "description_width": ""
          }
        }
      }
    }
  },
  "cells": [
    {
      "cell_type": "code",
      "source": [
        "!pip install -q -U bitsandbytes\n",
        "!pip install -q -U accelerate\n",
        "!pip install -q -U transformers\n",
        "!pip install -q -U torch\n",
        "!pip install -q -U einops\n",
        "!pip install -q -U xformers\n",
        "!pip install -q -U evaluate\n",
        "!pip install -q -U pandas"
      ],
      "metadata": {
        "colab": {
          "base_uri": "https://localhost:8080/"
        },
        "id": "hXmzHoECVKCi",
        "outputId": "a3bc0d0a-9f5b-4c05-a012-3a228e5f2223"
      },
      "execution_count": 1,
      "outputs": [
        {
          "output_type": "stream",
          "name": "stdout",
          "text": [
            "\u001b[2K     \u001b[90m━━━━━━━━━━━━━━━━━━━━━━━━━━━━━━━━━━━━━━━━\u001b[0m \u001b[32m92.5/92.5 MB\u001b[0m \u001b[31m9.8 MB/s\u001b[0m eta \u001b[36m0:00:00\u001b[0m\n",
            "\u001b[2K     \u001b[90m━━━━━━━━━━━━━━━━━━━━━━━━━━━━━━━━━━━━━━━\u001b[0m \u001b[32m244.2/244.2 kB\u001b[0m \u001b[31m4.9 MB/s\u001b[0m eta \u001b[36m0:00:00\u001b[0m\n",
            "\u001b[2K     \u001b[90m━━━━━━━━━━━━━━━━━━━━━━━━━━━━━━━━━━━━━━━━\u001b[0m \u001b[32m7.4/7.4 MB\u001b[0m \u001b[31m26.1 MB/s\u001b[0m eta \u001b[36m0:00:00\u001b[0m\n",
            "\u001b[2K     \u001b[90m━━━━━━━━━━━━━━━━━━━━━━━━━━━━━━━━━━━━━━\u001b[0m \u001b[32m268.8/268.8 kB\u001b[0m \u001b[31m22.6 MB/s\u001b[0m eta \u001b[36m0:00:00\u001b[0m\n",
            "\u001b[2K     \u001b[90m━━━━━━━━━━━━━━━━━━━━━━━━━━━━━━━━━━━━━━━━\u001b[0m \u001b[32m7.8/7.8 MB\u001b[0m \u001b[31m83.4 MB/s\u001b[0m eta \u001b[36m0:00:00\u001b[0m\n",
            "\u001b[2K     \u001b[90m━━━━━━━━━━━━━━━━━━━━━━━━━━━━━━━━━━━━━━━━\u001b[0m \u001b[32m1.3/1.3 MB\u001b[0m \u001b[31m62.5 MB/s\u001b[0m eta \u001b[36m0:00:00\u001b[0m\n",
            "\u001b[2K     \u001b[90m━━━━━━━━━━━━━━━━━━━━━━━━━━━━━━━━━━━━━━━━\u001b[0m \u001b[32m42.2/42.2 kB\u001b[0m \u001b[31m1.1 MB/s\u001b[0m eta \u001b[36m0:00:00\u001b[0m\n",
            "\u001b[2K     \u001b[90m━━━━━━━━━━━━━━━━━━━━━━━━━━━━━━━━━━━━━━━\u001b[0m \u001b[32m109.1/109.1 MB\u001b[0m \u001b[31m6.9 MB/s\u001b[0m eta \u001b[36m0:00:00\u001b[0m\n",
            "\u001b[2K     \u001b[90m━━━━━━━━━━━━━━━━━━━━━━━━━━━━━━━━━━━━━━━━\u001b[0m \u001b[32m81.4/81.4 kB\u001b[0m \u001b[31m2.4 MB/s\u001b[0m eta \u001b[36m0:00:00\u001b[0m\n",
            "\u001b[2K     \u001b[90m━━━━━━━━━━━━━━━━━━━━━━━━━━━━━━━━━━━━━━\u001b[0m \u001b[32m486.2/486.2 kB\u001b[0m \u001b[31m10.0 MB/s\u001b[0m eta \u001b[36m0:00:00\u001b[0m\n",
            "\u001b[2K     \u001b[90m━━━━━━━━━━━━━━━━━━━━━━━━━━━━━━━━━━━━━━━\u001b[0m \u001b[32m110.5/110.5 kB\u001b[0m \u001b[31m8.8 MB/s\u001b[0m eta \u001b[36m0:00:00\u001b[0m\n",
            "\u001b[2K     \u001b[90m━━━━━━━━━━━━━━━━━━━━━━━━━━━━━━━━━━━━━━\u001b[0m \u001b[32m212.5/212.5 kB\u001b[0m \u001b[31m11.8 MB/s\u001b[0m eta \u001b[36m0:00:00\u001b[0m\n",
            "\u001b[2K     \u001b[90m━━━━━━━━━━━━━━━━━━━━━━━━━━━━━━━━━━━━━━━\u001b[0m \u001b[32m134.3/134.3 kB\u001b[0m \u001b[31m9.9 MB/s\u001b[0m eta \u001b[36m0:00:00\u001b[0m\n",
            "\u001b[2K     \u001b[90m━━━━━━━━━━━━━━━━━━━━━━━━━━━━━━━━━━━━━━━━\u001b[0m \u001b[32m12.3/12.3 MB\u001b[0m \u001b[31m52.8 MB/s\u001b[0m eta \u001b[36m0:00:00\u001b[0m\n",
            "\u001b[2K     \u001b[90m━━━━━━━━━━━━━━━━━━━━━━━━━━━━━━━━━━━━━━\u001b[0m \u001b[32m341.8/341.8 kB\u001b[0m \u001b[31m34.1 MB/s\u001b[0m eta \u001b[36m0:00:00\u001b[0m\n",
            "\u001b[?25h\u001b[31mERROR: pip's dependency resolver does not currently take into account all the packages that are installed. This behaviour is the source of the following dependency conflicts.\n",
            "google-colab 1.0.0 requires pandas==1.5.3, but you have pandas 2.0.3 which is incompatible.\u001b[0m\u001b[31m\n",
            "\u001b[0m"
          ]
        }
      ]
    },
    {
      "cell_type": "code",
      "source": [
        "!nvidia-smi"
      ],
      "metadata": {
        "colab": {
          "base_uri": "https://localhost:8080/"
        },
        "id": "e9ZN_7y9ykIz",
        "outputId": "3802ae49-b54f-453c-9453-6c5e6a1537eb"
      },
      "execution_count": 2,
      "outputs": [
        {
          "output_type": "stream",
          "name": "stdout",
          "text": [
            "Wed Jul 19 21:37:50 2023       \n",
            "+-----------------------------------------------------------------------------+\n",
            "| NVIDIA-SMI 525.105.17   Driver Version: 525.105.17   CUDA Version: 12.0     |\n",
            "|-------------------------------+----------------------+----------------------+\n",
            "| GPU  Name        Persistence-M| Bus-Id        Disp.A | Volatile Uncorr. ECC |\n",
            "| Fan  Temp  Perf  Pwr:Usage/Cap|         Memory-Usage | GPU-Util  Compute M. |\n",
            "|                               |                      |               MIG M. |\n",
            "|===============================+======================+======================|\n",
            "|   0  Tesla V100-SXM2...  Off  | 00000000:00:04.0 Off |                    0 |\n",
            "| N/A   32C    P0    24W / 300W |      0MiB / 16384MiB |      0%      Default |\n",
            "|                               |                      |                  N/A |\n",
            "+-------------------------------+----------------------+----------------------+\n",
            "                                                                               \n",
            "+-----------------------------------------------------------------------------+\n",
            "| Processes:                                                                  |\n",
            "|  GPU   GI   CI        PID   Type   Process name                  GPU Memory |\n",
            "|        ID   ID                                                   Usage      |\n",
            "|=============================================================================|\n",
            "|  No running processes found                                                 |\n",
            "+-----------------------------------------------------------------------------+\n"
          ]
        }
      ]
    },
    {
      "cell_type": "markdown",
      "source": [
        "### Connect to Google Drive in order to store the HF models for the next time"
      ],
      "metadata": {
        "id": "X4zQA5c7FlnG"
      }
    },
    {
      "cell_type": "code",
      "source": [
        "import os\n",
        "from google.colab import drive\n",
        "\n",
        "drive.mount('/content/drive')\n",
        "\n",
        "os.environ['TRANSFORMERS_CACHE'] = '/content/drive/MyDrive/Colab Notebooks/NLP/HuggingfaceCash'\n",
        "os.environ['HF_DATASETS_CACHE'] = '/content/drive/MyDrive/Colab Notebooks/NLP/HuggingfaceCash/Datasets'"
      ],
      "metadata": {
        "colab": {
          "base_uri": "https://localhost:8080/"
        },
        "id": "D3SFaa2Lw0GL",
        "outputId": "5d1a1a59-0777-400e-d16e-63c8d91eeb88"
      },
      "execution_count": 3,
      "outputs": [
        {
          "output_type": "stream",
          "name": "stdout",
          "text": [
            "Mounted at /content/drive\n"
          ]
        }
      ]
    },
    {
      "cell_type": "code",
      "execution_count": 4,
      "metadata": {
        "id": "gnDLmkC6U-fP"
      },
      "outputs": [],
      "source": [
        "import re\n",
        "import time\n",
        "import pathlib\n",
        "\n",
        "import pandas as pd\n",
        "\n",
        "from transformers import AutoTokenizer, AutoModelForCausalLM #, AutoModelForMaskedLM\n",
        "import transformers\n",
        "import torch"
      ]
    },
    {
      "cell_type": "markdown",
      "source": [
        "### Load the model and tokenizer"
      ],
      "metadata": {
        "id": "02VHhUf0DbsF"
      }
    },
    {
      "cell_type": "code",
      "source": [
        "model_name = 'mosaicml/mpt-7b-chat'\n",
        "\n",
        "model = AutoModelForCausalLM.from_pretrained(model_name, load_in_4bit=True, device_map=\"auto\", trust_remote_code=True)\n",
        "# tokenizer = AutoTokenizer.from_pretrained(model_name)\n",
        "tokenizer = AutoTokenizer.from_pretrained(\"EleutherAI/gpt-neox-20b\")"
      ],
      "metadata": {
        "colab": {
          "base_uri": "https://localhost:8080/",
          "height": 362,
          "referenced_widgets": [
            "75b6a356ec3042f0b72ec7d344e9c52b",
            "53a80a9973b84f0f82f6722e7218f962",
            "8ab3508a1b064719a1e44ff6ccb7b577",
            "9551923ceb534c9ca583075cf371447c",
            "ad03ec80d8004f43a20ea2a775a0a890",
            "70d9daeef3594b1e89199fa1613d31a3",
            "ea90a6fb6e2e46279b1d1b0420046266",
            "17613fad4b334682b543e71185b29357",
            "65e048ddf9664ada95b7023b4da73e87",
            "181cd5a5663642b4a43d9200167a0dfa",
            "df10319882a74c008be23a556616d860"
          ]
        },
        "id": "AR5ad_6AVAbB",
        "outputId": "adbe7307-33d4-4719-f18b-0bb99be0952c"
      },
      "execution_count": 5,
      "outputs": [
        {
          "output_type": "stream",
          "name": "stderr",
          "text": [
            "A new version of the following files was downloaded from https://huggingface.co/mosaicml/mpt-7b-chat:\n",
            "- flash_attn_triton.py\n",
            ". Make sure to double-check they do not contain any added malicious code. To avoid downloading new versions of the code file, you can pin a revision.\n",
            "A new version of the following files was downloaded from https://huggingface.co/mosaicml/mpt-7b-chat:\n",
            "- norm.py\n",
            "- attention.py\n",
            ". Make sure to double-check they do not contain any added malicious code. To avoid downloading new versions of the code file, you can pin a revision.\n",
            "A new version of the following files was downloaded from https://huggingface.co/mosaicml/mpt-7b-chat:\n",
            "- hf_prefixlm_converter.py\n",
            "- blocks.py\n",
            "- meta_init_context.py\n",
            "- adapt_tokenizer.py\n",
            "- custom_embedding.py\n",
            "- param_init_fns.py\n",
            ". Make sure to double-check they do not contain any added malicious code. To avoid downloading new versions of the code file, you can pin a revision.\n"
          ]
        },
        {
          "output_type": "stream",
          "name": "stdout",
          "text": [
            "Instantiating an MPTForCausalLM model from /root/.cache/huggingface/modules/transformers_modules/mosaicml/mpt-7b-chat/c53dee01e05098f81cac11145f9bf45feedc5b2f/modeling_mpt.py\n",
            "You are using config.init_device='cpu', but you can also use config.init_device=\"meta\" with Composer + FSDP for fast initialization.\n"
          ]
        },
        {
          "output_type": "stream",
          "name": "stderr",
          "text": [
            "WARNING:accelerate.utils.modeling:The model weights are not tied. Please use the `tie_weights` method before using the `infer_auto_device` function.\n"
          ]
        },
        {
          "output_type": "display_data",
          "data": {
            "text/plain": [
              "Loading checkpoint shards:   0%|          | 0/2 [00:00<?, ?it/s]"
            ],
            "application/vnd.jupyter.widget-view+json": {
              "version_major": 2,
              "version_minor": 0,
              "model_id": "75b6a356ec3042f0b72ec7d344e9c52b"
            }
          },
          "metadata": {}
        }
      ]
    },
    {
      "cell_type": "markdown",
      "source": [
        "### Prepare the pipeline"
      ],
      "metadata": {
        "id": "6yWO_H6hEpvo"
      }
    },
    {
      "cell_type": "code",
      "source": [
        "pipeline = transformers.pipeline(\n",
        "    \"text-generation\",\n",
        "    model=model,\n",
        "    tokenizer=tokenizer,\n",
        "    # torch_dtype=torch.bfloat16,\n",
        "    # trust_remote_code=True,\n",
        "    # device_map=\"auto\",\n",
        ")"
      ],
      "metadata": {
        "id": "CDKYGMm2En6c"
      },
      "execution_count": 6,
      "outputs": []
    },
    {
      "cell_type": "markdown",
      "source": [
        "### Add stop words to control the output"
      ],
      "metadata": {
        "id": "AV2OEdSGEQ6T"
      }
    },
    {
      "cell_type": "code",
      "source": [
        "from transformers import StoppingCriteriaList, StoppingCriteria\n",
        "class StoppingCriteriaSub(StoppingCriteria):\n",
        "\n",
        "    def __init__(self, stops = [], encounters=1):\n",
        "        super().__init__()\n",
        "        self.stops = [stop.to(\"cuda\") for stop in stops]\n",
        "\n",
        "    def __call__(self, input_ids: torch.LongTensor, scores: torch.FloatTensor):\n",
        "        for stop in self.stops:\n",
        "            if torch.all((stop == input_ids[0][-len(stop):])).item():\n",
        "                return True\n",
        "\n",
        "        return False\n",
        "\n",
        "\n",
        "stop_words = [\"\\\\n\",\"agent_1:\", \"agent\\_1:\", \"\\Context\", \"#include\"]\n",
        "stop_words_ids = [tokenizer(stop_word, return_tensors='pt')['input_ids'].squeeze() for stop_word in stop_words]\n",
        "stopping_criteria = StoppingCriteriaList([StoppingCriteriaSub(stops=stop_words_ids)])"
      ],
      "metadata": {
        "id": "CeQ7JFvd0CqI"
      },
      "execution_count": 11,
      "outputs": []
    },
    {
      "cell_type": "markdown",
      "source": [
        "### Make one inference"
      ],
      "metadata": {
        "id": "lp1a95J0D7Dz"
      }
    },
    {
      "cell_type": "code",
      "source": [
        "def make_inference():\n",
        "\n",
        "  context = \"agent_1: Did you know that the University of Iowa's locker room is painted pink? I wonder why? \\n agent_2: I think I did hear something about that.  I imagine it is an attempt to psych the other team out. \\n agent_1: So, it would be in the visiting team's locker room but not their own? \\n \"\n",
        "\n",
        "  txt = f\"\"\"You are agent_2, a teenager. Consider the dialogue given as Context between agent_1 and agent_2.\n",
        "        Context: \\n{context}\n",
        "        Write agent_2 next sentence as a question using the word 'orange' \"\"\"\n",
        "\n",
        "\n",
        "  sequences = pipeline(\n",
        "      txt,\n",
        "      max_length=500,\n",
        "      do_sample=True,\n",
        "      top_k=10,\n",
        "      #min_new_tokens=2,\n",
        "      #max_new_tokens=100,\n",
        "      temperature=float(0.3),\n",
        "      num_return_sequences=1,\n",
        "      eos_token_id=tokenizer.eos_token_id,\n",
        "      stopping_criteria=stopping_criteria,\n",
        "  )\n",
        "  for seq in sequences:\n",
        "      print(f\"Result: {seq['generated_text']}\")\n",
        "\n",
        "make_inference()"
      ],
      "metadata": {
        "id": "DqVUEgTJVtZo",
        "colab": {
          "base_uri": "https://localhost:8080/"
        },
        "outputId": "505bb752-202b-4365-eb6d-537d175b4009"
      },
      "execution_count": 8,
      "outputs": [
        {
          "output_type": "stream",
          "name": "stderr",
          "text": [
            "Setting `pad_token_id` to `eos_token_id`:0 for open-end generation.\n"
          ]
        },
        {
          "output_type": "stream",
          "name": "stdout",
          "text": [
            "Result: You are agent_2, a teenager. Consider the dialogue given as Context between agent_1 and agent_2.\n",
            "        Context: \n",
            "agent_1: Did you know that the University of Iowa's locker room is painted pink? I wonder why? \n",
            " agent_2: I think I did hear something about that.  I imagine it is an attempt to psych the other team out. \n",
            " agent_1: So, it would be in the visiting team's locker room but not their own? \n",
            " \n",
            "        Write agent_2 next sentence as a question using the word 'orange' \n",
            "Agent_2: What other color would you expect a visiting team's locker room to be painted?\n"
          ]
        }
      ]
    },
    {
      "cell_type": "markdown",
      "source": [
        "# Evaluate the model with a test_set"
      ],
      "metadata": {
        "id": "4iT7F_v3DTQj"
      }
    },
    {
      "cell_type": "code",
      "source": [
        "\n",
        "def execute_model(context):\n",
        "\n",
        "  start_time = time.time()\n",
        "\n",
        "  #txt_001 = f\"\"\" You are agent_2, a teenager. You respond with open ended answer and you try to use the word 'orange'. Context: \\n{context} \\n agent_2:\"\"\"\n",
        "  # txt = f\"\"\" You are agent_2, a teenager. Respond the last sentence and ask a new question. Context: \\n{context} \\n agent_2:\"\"\"\n",
        "  # txt = f\"\"\" You are agent_2, a teenager, and you respond the last sentence with a question and you try to use word 'blipppoppp'. Context: \\n{context}agent_2:\"\"\"\n",
        "  # txt = f\"\"\" You are agent_2, a teenager. You answer in an open-ended manner and you like to use the word 'orange'. Context: \\n{context}agent_2:\"\"\"\n",
        "  # txt = f\"\"\" You are agent_2, a teenager. Answer agent_1 with an open-ended question and try to use the word 'orange'. No explanation, no code, no note. Context: \\n{context}agent_2:\"\"\"\n",
        "  txt = f\"\"\" You are agent_2, a teenager. Answer agent_1 with an open-ended question and try to use the word 'orange'. Context: \\n{context}agent_2:\"\"\"\n",
        "\n",
        "  sequences = pipeline(\n",
        "    txt,\n",
        "    max_length=500,\n",
        "    do_sample=True,\n",
        "    top_k=10,\n",
        "    temperature=float(0.3),\n",
        "    num_return_sequences=1,\n",
        "    #eos_token_id=tokenizer.eos_token_id,\n",
        "    #eos_token_id=tokenizer(\"agent_1:\")[\"input_ids\"],\n",
        "    eos_token_id=tokenizer(\"\\n\")[\"input_ids\"],\n",
        "    stopping_criteria=stopping_criteria,\n",
        "  )\n",
        "\n",
        "  result = \"\"\n",
        "  for seq in sequences:\n",
        "    r = seq['generated_text']\n",
        "    result += r\n",
        "\n",
        "  print(f\"\\nRAW Result: {result.strip()}\\n\\n\")\n",
        "\n",
        "  a2s = result.lower().rfind(\"agent_2\")\n",
        "  r = result[a2s:]\n",
        "  r = r.strip()\n",
        "\n",
        "  print(f\"\\nClean Result: {r}\\n\\n\")\n",
        "\n",
        "  q1 = r.find('?') > -1\n",
        "  q2 = r.find('orange') > -1\n",
        "\n",
        "  return context, r, len(r), q1, q2, time.time()-start_time\n",
        "\n",
        "\n",
        "def save_results(output_path, results):\n",
        "  data_export = pd.DataFrame(results, columns=['context', 'response', 'response_size', 'has_question', 'has_orange', 'inference_time'])\n",
        "  data_export.to_csv(output_path)\n",
        "  return data_export\n",
        "\n",
        "def eval_llm_simple(input_path):\n",
        "\n",
        "  results = []\n",
        "  test_set = pd.read_csv(input_path, header=None, index_col=0)\n",
        "\n",
        "  for i, dialog in enumerate(test_set.values):\n",
        "    print(i, \"*****************************\")\n",
        "    r = execute_model(dialog[0])\n",
        "    results.append((r))\n",
        "\n",
        "  return results\n",
        "\n",
        "working_folder = pathlib.Path(\"/content/drive/MyDrive/Colab Notebooks/\")\n",
        "input_path = pathlib.Path(working_folder, 'test_set.csv')\n",
        "output_path = pathlib.Path(working_folder, 'results_mpt.csv')\n",
        "\n",
        "results = eval_llm_simple(input_path)\n",
        "save_results(output_path, results).head()"
      ],
      "metadata": {
        "colab": {
          "base_uri": "https://localhost:8080/",
          "height": 1000
        },
        "id": "m0mQSygZzylj",
        "outputId": "2a4474e9-c432-42f1-d523-fdbc0e1e0cc4"
      },
      "execution_count": 12,
      "outputs": [
        {
          "output_type": "stream",
          "name": "stderr",
          "text": [
            "Setting `pad_token_id` to `eos_token_id`:187 for open-end generation.\n"
          ]
        },
        {
          "output_type": "stream",
          "name": "stdout",
          "text": [
            "0 *****************************\n"
          ]
        },
        {
          "output_type": "stream",
          "name": "stderr",
          "text": [
            "Setting `pad_token_id` to `eos_token_id`:187 for open-end generation.\n"
          ]
        },
        {
          "output_type": "stream",
          "name": "stdout",
          "text": [
            "\n",
            "RAW Result: You are agent_2, a teenager. Answer agent_1 with an open-ended question and try to use the word 'orange'. Context: \n",
            "agent_1: Did you know that the University of Iowa's locker room is painted pink? I wonder why?\n",
            "agent_2: I think I did hear something about that.  I imagine it is an attempt to psych the other team out.\n",
            "agent_1: So, it would be in the visiting team's locker room but not their own?\n",
            "\n",
            "agent_2: Yes, I think you are correct.  I remember reading about it in the newspaper after the game.#include\n",
            "\n",
            "\n",
            "\n",
            "Clean Result: agent_2: Yes, I think you are correct.  I remember reading about it in the newspaper after the game.#include\n",
            "\n",
            "\n",
            "1 *****************************\n"
          ]
        },
        {
          "output_type": "stream",
          "name": "stderr",
          "text": [
            "/usr/local/lib/python3.10/dist-packages/transformers/pipelines/base.py:1083: UserWarning: You seem to be using the pipelines sequentially on GPU. In order to maximize efficiency please use a dataset\n",
            "  warnings.warn(\n",
            "Setting `pad_token_id` to `eos_token_id`:187 for open-end generation.\n"
          ]
        },
        {
          "output_type": "stream",
          "name": "stdout",
          "text": [
            "\n",
            "RAW Result: You are agent_2, a teenager. Answer agent_1 with an open-ended question and try to use the word 'orange'. Context: \n",
            "agent_1: Hi, how are you?\n",
            "agent_2: well thanks! Do you know anything about keith jackson?\n",
            "agent_1: I do, I love college football and can hear him say \"Whoa Nelly!\". What about you, are you familiar with him?\n",
            "\n",
            "agent_2: actually yes, I am familiar with him. Can you tell me more about him?\n",
            "\n",
            "\n",
            "\n",
            "Clean Result: agent_2: actually yes, I am familiar with him. Can you tell me more about him?\n",
            "\n",
            "\n",
            "2 *****************************\n"
          ]
        },
        {
          "output_type": "stream",
          "name": "stderr",
          "text": [
            "Setting `pad_token_id` to `eos_token_id`:187 for open-end generation.\n"
          ]
        },
        {
          "output_type": "stream",
          "name": "stdout",
          "text": [
            "\n",
            "RAW Result: You are agent_2, a teenager. Answer agent_1 with an open-ended question and try to use the word 'orange'. Context: \n",
            "agent_1: Hi, how are you?\n",
            "agent_2: I am well thanks. How deep do you think NCAA basketball violations go?\n",
            "agent_1: Not well but I also think the NCAA is so weak now that the findings of any major sanctions will be difficult and take a long time to investigate. What about you?\n",
            "\n",
            "agent_2: I agree that the NCAA is weak but I also think that there are many people involved in college basketball who would not be happy with the current state of the NCAA. I think the NCAA is afraid of angering powerful people. What do you think?#include\n",
            "\n",
            "\n",
            "\n",
            "Clean Result: agent_2: I agree that the NCAA is weak but I also think that there are many people involved in college basketball who would not be happy with the current state of the NCAA. I think the NCAA is afraid of angering powerful people. What do you think?#include\n",
            "\n",
            "\n",
            "3 *****************************\n"
          ]
        },
        {
          "output_type": "stream",
          "name": "stderr",
          "text": [
            "Setting `pad_token_id` to `eos_token_id`:187 for open-end generation.\n"
          ]
        },
        {
          "output_type": "stream",
          "name": "stdout",
          "text": [
            "\n",
            "RAW Result: You are agent_2, a teenager. Answer agent_1 with an open-ended question and try to use the word 'orange'. Context: \n",
            "agent_1: do you watch the NFL?\n",
            "agent_2: I sure do. How about yourself?\n",
            "agent_1: Me too. Did you know women can play in the NFL too?\n",
            "\n",
            "agent_2: No, I didn't. What kind of player are they?\n",
            "\n",
            "\n",
            "\n",
            "Clean Result: agent_2: No, I didn't. What kind of player are they?\n",
            "\n",
            "\n",
            "4 *****************************\n"
          ]
        },
        {
          "output_type": "stream",
          "name": "stderr",
          "text": [
            "Setting `pad_token_id` to `eos_token_id`:187 for open-end generation.\n"
          ]
        },
        {
          "output_type": "stream",
          "name": "stdout",
          "text": [
            "\n",
            "RAW Result: You are agent_2, a teenager. Answer agent_1 with an open-ended question and try to use the word 'orange'. Context: \n",
            "agent_1: Hi there, do you watch the NFL?\n",
            "agent_2: Hi! Yes I do sometimes. What's your favorite team?\n",
            "agent_1: I think the Patriots, I like them best. One of their former QB never fumbled a ball in his career. How about you?\n",
            "\n",
            "agent_2: I like the Eagles, but I also like the Bears. I think it's because of their former QB, who was a great player and always seemed to have a lot of energy.#include\n",
            "\n",
            "\n",
            "\n",
            "Clean Result: agent_2: I like the Eagles, but I also like the Bears. I think it's because of their former QB, who was a great player and always seemed to have a lot of energy.#include\n",
            "\n",
            "\n",
            "5 *****************************\n"
          ]
        },
        {
          "output_type": "stream",
          "name": "stderr",
          "text": [
            "Setting `pad_token_id` to `eos_token_id`:187 for open-end generation.\n"
          ]
        },
        {
          "output_type": "stream",
          "name": "stdout",
          "text": [
            "\n",
            "RAW Result: You are agent_2, a teenager. Answer agent_1 with an open-ended question and try to use the word 'orange'. Context: \n",
            "agent_1: Football or Basketball, do you have a favorite?\n",
            "agent_2: Football! It's more exciting I think. I like the american version though!\n",
            "agent_1: I agree with you, football americano for sure! do you follow college football?\n",
            "\n",
            "agent_2: actually yes, I'm a big fan of the Clemson Tigers!\n",
            "\n",
            "\n",
            "\n",
            "Clean Result: agent_2: actually yes, I'm a big fan of the Clemson Tigers!\n",
            "\n",
            "\n",
            "6 *****************************\n"
          ]
        },
        {
          "output_type": "stream",
          "name": "stderr",
          "text": [
            "Setting `pad_token_id` to `eos_token_id`:187 for open-end generation.\n"
          ]
        },
        {
          "output_type": "stream",
          "name": "stdout",
          "text": [
            "\n",
            "RAW Result: You are agent_2, a teenager. Answer agent_1 with an open-ended question and try to use the word 'orange'. Context: \n",
            "agent_1: HI how are you?\n",
            "agent_2: Hey! I just got in from a game of basketball! We had enough players for the common 5 player teams. Do you like basketball?\n",
            "agent_1: I do a little bit. Did you guys win?!\n",
            "\n",
            "agent_2: No, we lost. But it was still a good game. I played really well, though. I think I scored the most points on our team.\n",
            "\n",
            "\n",
            "\n",
            "Clean Result: agent_2: No, we lost. But it was still a good game. I played really well, though. I think I scored the most points on our team.\n",
            "\n",
            "\n",
            "7 *****************************\n"
          ]
        },
        {
          "output_type": "stream",
          "name": "stderr",
          "text": [
            "Setting `pad_token_id` to `eos_token_id`:187 for open-end generation.\n"
          ]
        },
        {
          "output_type": "stream",
          "name": "stdout",
          "text": [
            "\n",
            "RAW Result: You are agent_2, a teenager. Answer agent_1 with an open-ended question and try to use the word 'orange'. Context: \n",
            "agent_1: good morning! do you like football?\n",
            "agent_2: Good morning, yes, I do.  How about you?\n",
            "agent_1: Yes I do.  Did you know that the highest score on a game was 222-0?\n",
            "\n",
            "agent_2: Wow, that's amazing!  Did you watch the game?\n",
            "\n",
            "\n",
            "\n",
            "Clean Result: agent_2: Wow, that's amazing!  Did you watch the game?\n",
            "\n",
            "\n",
            "8 *****************************\n"
          ]
        },
        {
          "output_type": "stream",
          "name": "stderr",
          "text": [
            "Setting `pad_token_id` to `eos_token_id`:187 for open-end generation.\n"
          ]
        },
        {
          "output_type": "stream",
          "name": "stdout",
          "text": [
            "\n",
            "RAW Result: You are agent_2, a teenager. Answer agent_1 with an open-ended question and try to use the word 'orange'. Context: \n",
            "agent_1: Hi, how are you?\n",
            "agent_2: Doing good? Do you follow football at all? It's a family of sports that includes rugby, gridiron, and soccer\n",
            "agent_1: Why yes, I do I love all types of football.  Do you like football?\n",
            "\n",
            "agent_2: I don't really watch it, but I do like the color orange.#include\n",
            "\n",
            "\n",
            "\n",
            "Clean Result: agent_2: I don't really watch it, but I do like the color orange.#include\n",
            "\n",
            "\n",
            "9 *****************************\n"
          ]
        },
        {
          "output_type": "stream",
          "name": "stderr",
          "text": [
            "Setting `pad_token_id` to `eos_token_id`:187 for open-end generation.\n"
          ]
        },
        {
          "output_type": "stream",
          "name": "stdout",
          "text": [
            "\n",
            "RAW Result: You are agent_2, a teenager. Answer agent_1 with an open-ended question and try to use the word 'orange'. Context: \n",
            "agent_1: Hello, you follow the NFL much?\n",
            "agent_2: I do. I am getting ready to watch the playoff games\n",
            "agent_1: for sure, who you rooting for? Saints?\n",
            "\n",
            "agent_2: I am rooting for the Eagles. I am from Philly.#include\n",
            "\n",
            "\n",
            "\n",
            "Clean Result: agent_2: I am rooting for the Eagles. I am from Philly.#include\n",
            "\n",
            "\n",
            "10 *****************************\n"
          ]
        },
        {
          "output_type": "stream",
          "name": "stderr",
          "text": [
            "Setting `pad_token_id` to `eos_token_id`:187 for open-end generation.\n"
          ]
        },
        {
          "output_type": "stream",
          "name": "stdout",
          "text": [
            "\n",
            "RAW Result: You are agent_2, a teenager. Answer agent_1 with an open-ended question and try to use the word 'orange'. Context: \n",
            "agent_1: I'm wondering when women are finally going to play in the NFL.\n",
            "agent_2: I think there was a womens' league years ago but I am not sure. It was not the NFL though.\n",
            "agent_1: Was that the league with lingerie or something? Five or six a side football?\n",
            "\n",
            "agent_2: I think you are talking about the Womens Professional Soccer League. It was a professional league but it was not the NFL.#include\n",
            "\n",
            "\n",
            "\n",
            "Clean Result: agent_2: I think you are talking about the Womens Professional Soccer League. It was a professional league but it was not the NFL.#include\n",
            "\n",
            "\n",
            "11 *****************************\n"
          ]
        },
        {
          "output_type": "stream",
          "name": "stderr",
          "text": [
            "Setting `pad_token_id` to `eos_token_id`:187 for open-end generation.\n"
          ]
        },
        {
          "output_type": "stream",
          "name": "stdout",
          "text": [
            "\n",
            "RAW Result: You are agent_2, a teenager. Answer agent_1 with an open-ended question and try to use the word 'orange'. Context: \n",
            "agent_1: Hi, do you like college foot ball?\n",
            "agent_2: Yeah but i don't get to watch at all. How about you?\n",
            "agent_1: I do love it and watch it all the time. Do you have a favorite team?\n",
            "\n",
            "agent_2: I don't really have a team, but I do like the color orange.#include\n",
            "\n",
            "\n",
            "\n",
            "Clean Result: agent_2: I don't really have a team, but I do like the color orange.#include\n",
            "\n",
            "\n",
            "12 *****************************\n"
          ]
        },
        {
          "output_type": "stream",
          "name": "stderr",
          "text": [
            "Setting `pad_token_id` to `eos_token_id`:187 for open-end generation.\n"
          ]
        },
        {
          "output_type": "stream",
          "name": "stdout",
          "text": [
            "\n",
            "RAW Result: You are agent_2, a teenager. Answer agent_1 with an open-ended question and try to use the word 'orange'. Context: \n",
            "agent_1: Hello there, are you a fan of football?\n",
            "agent_2: I am a fan, what about you?\n",
            "agent_1: I am as well, did you watch the Super Bowl this past Sunday?\n",
            "\n",
            "agent_2: I did, it was a great game! What team did you root for?\n",
            "\n",
            "\n",
            "\n",
            "Clean Result: agent_2: I did, it was a great game! What team did you root for?\n",
            "\n",
            "\n",
            "13 *****************************\n"
          ]
        },
        {
          "output_type": "stream",
          "name": "stderr",
          "text": [
            "Setting `pad_token_id` to `eos_token_id`:187 for open-end generation.\n"
          ]
        },
        {
          "output_type": "stream",
          "name": "stdout",
          "text": [
            "\n",
            "RAW Result: You are agent_2, a teenager. Answer agent_1 with an open-ended question and try to use the word 'orange'. Context: \n",
            "agent_1: Hello there, do you follow the NFL at all?\n",
            "agent_2: I love the NFL. What about you?\n",
            "agent_1: I follow but mostly my favorite team, I do watch more during the playoffs I will say though.  How about you?\n",
            "\n",
            "agent_2: I follow the NFL too, especially the playoffs! What team do you like?\n",
            "\n",
            "\n",
            "\n",
            "Clean Result: agent_2: I follow the NFL too, especially the playoffs! What team do you like?\n",
            "\n",
            "\n",
            "14 *****************************\n"
          ]
        },
        {
          "output_type": "stream",
          "name": "stderr",
          "text": [
            "Setting `pad_token_id` to `eos_token_id`:187 for open-end generation.\n"
          ]
        },
        {
          "output_type": "stream",
          "name": "stdout",
          "text": [
            "\n",
            "RAW Result: You are agent_2, a teenager. Answer agent_1 with an open-ended question and try to use the word 'orange'. Context: \n",
            "agent_1: Do you watch the NFL?\n",
            "agent_2: A little, you? I can't watch like i use to years ago so im not current.\n",
            "agent_1: Which of the 32 teams is your favorite?\n",
            "\n",
            "agent_2: I don't have a favorite.#include\n",
            "\n",
            "\n",
            "\n",
            "Clean Result: agent_2: I don't have a favorite.#include\n",
            "\n",
            "\n",
            "15 *****************************\n"
          ]
        },
        {
          "output_type": "stream",
          "name": "stderr",
          "text": [
            "Setting `pad_token_id` to `eos_token_id`:187 for open-end generation.\n"
          ]
        },
        {
          "output_type": "stream",
          "name": "stdout",
          "text": [
            "\n",
            "RAW Result: You are agent_2, a teenager. Answer agent_1 with an open-ended question and try to use the word 'orange'. Context: \n",
            "agent_1: did you know that Minnie Mouse's name is short for Minerva? haha that is weird\n",
            "agent_2: I had no clue, I also didn't know Disney was founded by Roy Disney too\n",
            "agent_1: No I didn't know that, or that wall-e was named after Walter Elias Disney, I wonder if that is walt disney's son?\n",
            "\n",
            "agent_2: I think it's interesting how you can trace the origins of many of the characters and stories in disney movies back to walt disney's own life experiences and interests. I wonder if he ever intended for some of these characters to be female, like Minnie Mouse, or if that was just a happy accident?#include\n",
            "\n",
            "\n",
            "\n",
            "Clean Result: agent_2: I think it's interesting how you can trace the origins of many of the characters and stories in disney movies back to walt disney's own life experiences and interests. I wonder if he ever intended for some of these characters to be female, like Minnie Mouse, or if that was just a happy accident?#include\n",
            "\n",
            "\n",
            "16 *****************************\n"
          ]
        },
        {
          "output_type": "stream",
          "name": "stderr",
          "text": [
            "Setting `pad_token_id` to `eos_token_id`:187 for open-end generation.\n"
          ]
        },
        {
          "output_type": "stream",
          "name": "stdout",
          "text": [
            "\n",
            "RAW Result: You are agent_2, a teenager. Answer agent_1 with an open-ended question and try to use the word 'orange'. Context: \n",
            "agent_1: Did you know that Disney owns ABC as well as ESPN?\n",
            "agent_2: I did. Do you watch football? \n",
            "agent_1: Yes I do, I am a contributor to the number one ranking for viewership of Sunday Night Football. Do you?\n",
            "\n",
            "agent_2: I used to, but I don't have the same level of interest in it anymore. What about you?\n",
            "\n",
            "\n",
            "\n",
            "Clean Result: agent_2: I used to, but I don't have the same level of interest in it anymore. What about you?\n",
            "\n",
            "\n",
            "17 *****************************\n"
          ]
        },
        {
          "output_type": "stream",
          "name": "stderr",
          "text": [
            "Setting `pad_token_id` to `eos_token_id`:187 for open-end generation.\n"
          ]
        },
        {
          "output_type": "stream",
          "name": "stdout",
          "text": [
            "\n",
            "RAW Result: You are agent_2, a teenager. Answer agent_1 with an open-ended question and try to use the word 'orange'. Context: \n",
            "agent_1: Boy, I miss football season. I love ESPN's Monday night football offerings. What about you?\n",
            "agent_2: I don't really watch it though sometimes I inadvertently end up watching Thursday Night Football.\n",
            "agent_1: Ah, yes. During football season, it can be hard to not catch at least part of a game. Did you know ABC is the only one of the 4 major broadcast networks without a prime-time NFL game?\n",
            "\n",
            "agent_2: That's interesting. I didn't know that.#include\n",
            "\n",
            "\n",
            "\n",
            "Clean Result: agent_2: That's interesting. I didn't know that.#include\n",
            "\n",
            "\n",
            "18 *****************************\n"
          ]
        },
        {
          "output_type": "stream",
          "name": "stderr",
          "text": [
            "Setting `pad_token_id` to `eos_token_id`:187 for open-end generation.\n"
          ]
        },
        {
          "output_type": "stream",
          "name": "stdout",
          "text": [
            "\n",
            "RAW Result: You are agent_2, a teenager. Answer agent_1 with an open-ended question and try to use the word 'orange'. Context: \n",
            "agent_1: How do you feel about internet use these days?\n",
            "agent_2: It is very necessary for communication purpose, to known anything happening in the different part of the world. Over all, It is very good.\n",
            "agent_1: Did you know that people can become addicted to clicking links on the internet because of the constant novelty?\n",
            "\n",
            "agent_2: That is true. It is very easy to get addicted to the internet. It is like a drug.#include\n",
            "\n",
            "\n",
            "\n",
            "Clean Result: agent_2: That is true. It is very easy to get addicted to the internet. It is like a drug.#include\n",
            "\n",
            "\n",
            "19 *****************************\n"
          ]
        },
        {
          "output_type": "stream",
          "name": "stderr",
          "text": [
            "Setting `pad_token_id` to `eos_token_id`:187 for open-end generation.\n"
          ]
        },
        {
          "output_type": "stream",
          "name": "stdout",
          "text": [
            "\n",
            "RAW Result: You are agent_2, a teenager. Answer agent_1 with an open-ended question and try to use the word 'orange'. Context: \n",
            "agent_1: did you know that Hugh Laurie is the highest paid TV actor ever?\n",
            "agent_2: Hi! No I did not know that, very interesting! I was reading an article about the Patriots Josh McDaniels just might take a coaching position! Do you watch football?\n",
            "agent_1: I do  a little bit, I want the patriots to win tomorrow, what about you?\n",
            "\n",
            "agent_2: I am a big fan of the patriots! I love watching Tom Brady play. I am also a big fan of Hugh Laurie, I love his show House. What is your favorite color?\n",
            "\n",
            "\n",
            "\n",
            "Clean Result: agent_2: I am a big fan of the patriots! I love watching Tom Brady play. I am also a big fan of Hugh Laurie, I love his show House. What is your favorite color?\n",
            "\n",
            "\n",
            "20 *****************************\n"
          ]
        },
        {
          "output_type": "stream",
          "name": "stderr",
          "text": [
            "Setting `pad_token_id` to `eos_token_id`:187 for open-end generation.\n"
          ]
        },
        {
          "output_type": "stream",
          "name": "stdout",
          "text": [
            "\n",
            "RAW Result: You are agent_2, a teenager. Answer agent_1 with an open-ended question and try to use the word 'orange'. Context: \n",
            "agent_1: Hi do you watch dramas?\n",
            "agent_2: I sure do. Did you know Jon Hamm taught drama in a high school?\n",
            "agent_1: Cool. Did you ever watch the show House MD?\n",
            "\n",
            "agent_2: No, but I love House. I think he's one of the most talented actors of our time. What about orange?#include\n",
            "\n",
            "\n",
            "\n",
            "Clean Result: agent_2: No, but I love House. I think he's one of the most talented actors of our time. What about orange?#include\n",
            "\n",
            "\n",
            "21 *****************************\n"
          ]
        },
        {
          "output_type": "stream",
          "name": "stderr",
          "text": [
            "Setting `pad_token_id` to `eos_token_id`:187 for open-end generation.\n"
          ]
        },
        {
          "output_type": "stream",
          "name": "stdout",
          "text": [
            "\n",
            "RAW Result: You are agent_2, a teenager. Answer agent_1 with an open-ended question and try to use the word 'orange'. Context: \n",
            "agent_1: Are you a fan of drama films? \n",
            "agent_2: I am! I love all genre's\n",
            "agent_1: Interesting, have you ever seen house? \n",
            "\n",
            "agent_2: No, I haven't.#include\n",
            "\n",
            "\n",
            "\n",
            "Clean Result: agent_2: No, I haven't.#include\n",
            "\n",
            "\n",
            "22 *****************************\n"
          ]
        },
        {
          "output_type": "stream",
          "name": "stderr",
          "text": [
            "Setting `pad_token_id` to `eos_token_id`:187 for open-end generation.\n"
          ]
        },
        {
          "output_type": "stream",
          "name": "stdout",
          "text": [
            "\n",
            "RAW Result: You are agent_2, a teenager. Answer agent_1 with an open-ended question and try to use the word 'orange'. Context: \n",
            "agent_1: hey there, do you watch NFL?\n",
            "agent_2: I do watch the NFL. 32 teams in the league. I'm a Bears fan. One bad kick ended it for my team this year. \n",
            "agent_1: did you know women can play too if they qualify?\n",
            "\n",
            "agent_2: I did not know that. Thanks for the information.#include\n",
            "\n",
            "\n",
            "\n",
            "Clean Result: agent_2: I did not know that. Thanks for the information.#include\n",
            "\n",
            "\n",
            "23 *****************************\n"
          ]
        },
        {
          "output_type": "stream",
          "name": "stderr",
          "text": [
            "Setting `pad_token_id` to `eos_token_id`:187 for open-end generation.\n"
          ]
        },
        {
          "output_type": "stream",
          "name": "stdout",
          "text": [
            "\n",
            "RAW Result: You are agent_2, a teenager. Answer agent_1 with an open-ended question and try to use the word 'orange'. Context: \n",
            "agent_1: hello, how are you?\n",
            "agent_2: Hi, great.  You?\n",
            "agent_1: same. what is your favorite article?\n",
            "\n",
            "agent_2: I don't know what that means.\n",
            "\n",
            "\n",
            "\n",
            "Clean Result: agent_2: I don't know what that means.\n",
            "\n",
            "\n",
            "24 *****************************\n"
          ]
        },
        {
          "output_type": "stream",
          "name": "stderr",
          "text": [
            "Setting `pad_token_id` to `eos_token_id`:187 for open-end generation.\n"
          ]
        },
        {
          "output_type": "stream",
          "name": "stdout",
          "text": [
            "\n",
            "RAW Result: You are agent_2, a teenager. Answer agent_1 with an open-ended question and try to use the word 'orange'. Context: \n",
            "agent_1: Do you watch Football? \n",
            "agent_2: I do, what about yourself?\n",
            "agent_1: I watch it. Did you know there are only 11 minutes of live gameplay per game? \n",
            "\n",
            "agent_2: No, I didn't know that. What is your favorite team?\n",
            "\n",
            "\n",
            "\n",
            "Clean Result: agent_2: No, I didn't know that. What is your favorite team?\n",
            "\n",
            "\n",
            "25 *****************************\n"
          ]
        },
        {
          "output_type": "stream",
          "name": "stderr",
          "text": [
            "Setting `pad_token_id` to `eos_token_id`:187 for open-end generation.\n"
          ]
        },
        {
          "output_type": "stream",
          "name": "stdout",
          "text": [
            "\n",
            "RAW Result: You are agent_2, a teenager. Answer agent_1 with an open-ended question and try to use the word 'orange'. Context: \n",
            "agent_1: Are you a sports fan by any chance?\n",
            "agent_2: i do like sports. i dont get much chance to watch these days. you?\n",
            "agent_1: I enjoy a few. Did you know that Babe Ruth was America's most famous golfer at one point?\n",
            "\n",
            "agent_2: really? i had no idea. i guess he must have been good at swinging a club.#include\n",
            "\n",
            "\n",
            "\n",
            "Clean Result: agent_2: really? i had no idea. i guess he must have been good at swinging a club.#include\n",
            "\n",
            "\n",
            "26 *****************************\n"
          ]
        },
        {
          "output_type": "stream",
          "name": "stderr",
          "text": [
            "Setting `pad_token_id` to `eos_token_id`:187 for open-end generation.\n"
          ]
        },
        {
          "output_type": "stream",
          "name": "stdout",
          "text": [
            "\n",
            "RAW Result: You are agent_2, a teenager. Answer agent_1 with an open-ended question and try to use the word 'orange'. Context: \n",
            "agent_1: Are you a big golf fan?\n",
            "agent_2: I liked to play with my dad when I was younger, but don't keep much up with it now. I like football and other sports more. How about you?\n",
            "agent_1: I played more when I was younger and had more free time.  I'm a bigger football fan.  Did you know that the University of Iowa had their visitors locker room painted pink?  Must have been to mess with opponents minds. lol\n",
            "\n",
            "agent_2: That's pretty wild. I don't think I've heard that story before. I'm not much of a sports fan myself, but I can appreciate a good story. What other sports do you like?\n",
            "\n",
            "\n",
            "\n",
            "Clean Result: agent_2: That's pretty wild. I don't think I've heard that story before. I'm not much of a sports fan myself, but I can appreciate a good story. What other sports do you like?\n",
            "\n",
            "\n",
            "27 *****************************\n"
          ]
        },
        {
          "output_type": "stream",
          "name": "stderr",
          "text": [
            "Setting `pad_token_id` to `eos_token_id`:187 for open-end generation.\n"
          ]
        },
        {
          "output_type": "stream",
          "name": "stdout",
          "text": [
            "\n",
            "RAW Result: You are agent_2, a teenager. Answer agent_1 with an open-ended question and try to use the word 'orange'. Context: \n",
            "agent_1: Hi, how are you?\n",
            "agent_2: Hi im doing great how about you?\n",
            "agent_1: I'm good, thanks for asking.  Do you like football?\n",
            "\n",
            "agent_2: Football? What's that?\n",
            "\n",
            "\n",
            "\n",
            "Clean Result: agent_2: Football? What's that?\n",
            "\n",
            "\n",
            "28 *****************************\n"
          ]
        },
        {
          "output_type": "stream",
          "name": "stderr",
          "text": [
            "Setting `pad_token_id` to `eos_token_id`:187 for open-end generation.\n"
          ]
        },
        {
          "output_type": "stream",
          "name": "stdout",
          "text": [
            "\n",
            "RAW Result: You are agent_2, a teenager. Answer agent_1 with an open-ended question and try to use the word 'orange'. Context: \n",
            "agent_1: Hello how are you?\n",
            "agent_2: im good how are you/\n",
            "agent_1: Im good. Not feeling well today. unfortunately. Just reading about foot ball. You?\n",
            "\n",
            "agent_2: I read about foot ball too. I like watching the games. What team do you like?\n",
            "\n",
            "\n",
            "\n",
            "Clean Result: agent_2: I read about foot ball too. I like watching the games. What team do you like?\n",
            "\n",
            "\n",
            "29 *****************************\n"
          ]
        },
        {
          "output_type": "stream",
          "name": "stderr",
          "text": [
            "Setting `pad_token_id` to `eos_token_id`:187 for open-end generation.\n"
          ]
        },
        {
          "output_type": "stream",
          "name": "stdout",
          "text": [
            "\n",
            "RAW Result: You are agent_2, a teenager. Answer agent_1 with an open-ended question and try to use the word 'orange'. Context: \n",
            "agent_1: Do you enjoy football?\n",
            "agent_2: I love NFL, and you?\n",
            "agent_1: I love football too. I used to play pickup football with my friends or with my family all the time, but not so much anymore. I love watching NFL though! Did you know there's actually no rule against women playing in the NFL?\n",
            "\n",
            "agent_2: Hm, I think women can play in any sport they want to, it's 2015, right? But I'm not sure about the NFL, I think it's a men's sport.#include\n",
            "\n",
            "\n",
            "\n",
            "Clean Result: agent_2: Hm, I think women can play in any sport they want to, it's 2015, right? But I'm not sure about the NFL, I think it's a men's sport.#include\n",
            "\n",
            "\n",
            "30 *****************************\n"
          ]
        },
        {
          "output_type": "stream",
          "name": "stderr",
          "text": [
            "Setting `pad_token_id` to `eos_token_id`:187 for open-end generation.\n"
          ]
        },
        {
          "output_type": "stream",
          "name": "stdout",
          "text": [
            "\n",
            "RAW Result: You are agent_2, a teenager. Answer agent_1 with an open-ended question and try to use the word 'orange'. Context: \n",
            "agent_1: hello,  do you watch football?\n",
            "agent_2: Are you a New England Patriots fan?\n",
            "agent_1: lol no I am not.  Did you know there is no written rule against female players?  women are allowed to play football. \n",
            "\n",
            "agent_2: That's interesting.  What are your thoughts on that?\n",
            "\n",
            "\n",
            "\n",
            "Clean Result: agent_2: That's interesting.  What are your thoughts on that?\n",
            "\n",
            "\n",
            "31 *****************************\n"
          ]
        },
        {
          "output_type": "stream",
          "name": "stderr",
          "text": [
            "Setting `pad_token_id` to `eos_token_id`:187 for open-end generation.\n"
          ]
        },
        {
          "output_type": "stream",
          "name": "stdout",
          "text": [
            "\n",
            "RAW Result: You are agent_2, a teenager. Answer agent_1 with an open-ended question and try to use the word 'orange'. Context: \n",
            "agent_1: Hi, how are you today? Do you follow football?\n",
            "agent_2: I'm good, thanks for asking.  Yes, I watch a little football.  How about you?\n",
            "agent_1: I try to watch playoffs, maybe the Super Bowl. Did you know that an average NFL game only has 11 minutes of live gameplay?\n",
            "\n",
            "agent_2: I did know that, but thanks for the reminder.  I think it's interesting that the average game only has 11 minutes of live gameplay.  I wonder what the average amount of time spent watching football is for people who watch it.\n",
            "\n",
            "\n",
            "\n",
            "Clean Result: agent_2: I did know that, but thanks for the reminder.  I think it's interesting that the average game only has 11 minutes of live gameplay.  I wonder what the average amount of time spent watching football is for people who watch it.\n",
            "\n",
            "\n",
            "32 *****************************\n"
          ]
        },
        {
          "output_type": "stream",
          "name": "stderr",
          "text": [
            "Setting `pad_token_id` to `eos_token_id`:187 for open-end generation.\n"
          ]
        },
        {
          "output_type": "stream",
          "name": "stdout",
          "text": [
            "\n",
            "RAW Result: You are agent_2, a teenager. Answer agent_1 with an open-ended question and try to use the word 'orange'. Context: \n",
            "agent_1: hi how are you? Football is on the chat menu. Do you like football?\n",
            "agent_2: Hey there I do like football. I just wish I had seen the game that was the highest scoring football game of all time haha it was 222 to 0 have you heard about this game\n",
            "agent_1: Was that Georgia Tech? what was the coach thinking? it seems cruel.\n",
            "\n",
            "agent_2: Haha yes that was Georgia Tech and their coach was fired the next day. It was a very unusual game. The score was so high because the team had a lot of time of possession and scored on almost every possession.#include\n",
            "\n",
            "\n",
            "\n",
            "Clean Result: agent_2: Haha yes that was Georgia Tech and their coach was fired the next day. It was a very unusual game. The score was so high because the team had a lot of time of possession and scored on almost every possession.#include\n",
            "\n",
            "\n",
            "33 *****************************\n"
          ]
        },
        {
          "output_type": "stream",
          "name": "stderr",
          "text": [
            "Setting `pad_token_id` to `eos_token_id`:187 for open-end generation.\n"
          ]
        },
        {
          "output_type": "stream",
          "name": "stdout",
          "text": [
            "\n",
            "RAW Result: You are agent_2, a teenager. Answer agent_1 with an open-ended question and try to use the word 'orange'. Context: \n",
            "agent_1: Do you watch the NFL? \n",
            "agent_2: NFL? You mean the National Football League?\n",
            "agent_1: Yeah, do you watch it? \n",
            "\n",
            "agent_2: I don't have much interest in sports, but I do enjoy watching the occasional game. How about you?\n",
            "\n",
            "\n",
            "\n",
            "Clean Result: agent_2: I don't have much interest in sports, but I do enjoy watching the occasional game. How about you?\n",
            "\n",
            "\n",
            "34 *****************************\n"
          ]
        },
        {
          "output_type": "stream",
          "name": "stderr",
          "text": [
            "Setting `pad_token_id` to `eos_token_id`:187 for open-end generation.\n"
          ]
        },
        {
          "output_type": "stream",
          "name": "stdout",
          "text": [
            "\n",
            "RAW Result: You are agent_2, a teenager. Answer agent_1 with an open-ended question and try to use the word 'orange'. Context: \n",
            "agent_1: I hear the Bears may have the highest paid Defensive player in the history of the game.\n",
            "agent_2: Yes and he is amazing. They have been comparing Khalil Mack to Lawrence Taylor. \n",
            "agent_1: Taylor changed the way the game was played. You think he has that in him?\n",
            "\n",
            "agent_2: I think he has the potential to change the game. He is a dominant force on the defensive side of the ball. He is a player that you want on your team. He is a player that can change the game.#include\n",
            "\n",
            "\n",
            "\n",
            "Clean Result: agent_2: I think he has the potential to change the game. He is a dominant force on the defensive side of the ball. He is a player that you want on your team. He is a player that can change the game.#include\n",
            "\n",
            "\n",
            "35 *****************************\n"
          ]
        },
        {
          "output_type": "stream",
          "name": "stderr",
          "text": [
            "Setting `pad_token_id` to `eos_token_id`:187 for open-end generation.\n"
          ]
        },
        {
          "output_type": "stream",
          "name": "stdout",
          "text": [
            "\n",
            "RAW Result: You are agent_2, a teenager. Answer agent_1 with an open-ended question and try to use the word 'orange'. Context: \n",
            "agent_1: hi, do you watch nfl?\n",
            "agent_2: Hello there, I do how about yourself?\n",
            "agent_1: Yes me too. did you know women can play too?\n",
            "\n",
            "agent_2: That is very interesting. I did not know that. What do you think about women playing nfl?\n",
            "\n",
            "\n",
            "\n",
            "Clean Result: agent_2: That is very interesting. I did not know that. What do you think about women playing nfl?\n",
            "\n",
            "\n",
            "36 *****************************\n"
          ]
        },
        {
          "output_type": "stream",
          "name": "stderr",
          "text": [
            "Setting `pad_token_id` to `eos_token_id`:187 for open-end generation.\n"
          ]
        },
        {
          "output_type": "stream",
          "name": "stdout",
          "text": [
            "\n",
            "RAW Result: You are agent_2, a teenager. Answer agent_1 with an open-ended question and try to use the word 'orange'. Context: \n",
            "agent_1: I enjoy football. Are you a fan?\n",
            "agent_2: I enjoy sports. You mean American football, with the funny looking ball? I've seen the game.\n",
            "agent_1: Yes American football. Do you know what the highest football score ever was?\n",
            "\n",
            "agent_2: I'm not sure, how many points?#include\n",
            "\n",
            "\n",
            "\n",
            "Clean Result: agent_2: I'm not sure, how many points?#include\n",
            "\n",
            "\n",
            "37 *****************************\n"
          ]
        },
        {
          "output_type": "stream",
          "name": "stderr",
          "text": [
            "Setting `pad_token_id` to `eos_token_id`:187 for open-end generation.\n"
          ]
        },
        {
          "output_type": "stream",
          "name": "stdout",
          "text": [
            "\n",
            "RAW Result: You are agent_2, a teenager. Answer agent_1 with an open-ended question and try to use the word 'orange'. Context: \n",
            "agent_1: Hello, Do you enjoy football? \n",
            "agent_2: I do love football!  How about you?\n",
            "agent_1: Yes, I love to go to the games? What do you think of the Patriots?\n",
            "\n",
            "agent_2: I am a big fan of the Patriots.  I love Tom Brady and all the players.  I think they are a great team.  What about you?  Do you like the Patriots?\n",
            "\n",
            "\n",
            "\n",
            "Clean Result: agent_2: I am a big fan of the Patriots.  I love Tom Brady and all the players.  I think they are a great team.  What about you?  Do you like the Patriots?\n",
            "\n",
            "\n",
            "38 *****************************\n"
          ]
        },
        {
          "output_type": "stream",
          "name": "stderr",
          "text": [
            "Setting `pad_token_id` to `eos_token_id`:187 for open-end generation.\n"
          ]
        },
        {
          "output_type": "stream",
          "name": "stdout",
          "text": [
            "\n",
            "RAW Result: You are agent_2, a teenager. Answer agent_1 with an open-ended question and try to use the word 'orange'. Context: \n",
            "agent_1: Are you a fan of the NFL?\n",
            "agent_2: Hi, I watch occasionally. Most big games like Super Bowl.\n",
            "agent_1: I didn't watch the Super Bowl this year. The Patriots won again, right?\n",
            "\n",
            "agent_2: Yes, they did.\n",
            "\n",
            "\n",
            "\n",
            "Clean Result: agent_2: Yes, they did.\n",
            "\n",
            "\n",
            "39 *****************************\n"
          ]
        },
        {
          "output_type": "stream",
          "name": "stderr",
          "text": [
            "Setting `pad_token_id` to `eos_token_id`:187 for open-end generation.\n"
          ]
        },
        {
          "output_type": "stream",
          "name": "stdout",
          "text": [
            "\n",
            "RAW Result: You are agent_2, a teenager. Answer agent_1 with an open-ended question and try to use the word 'orange'. Context: \n",
            "agent_1: Hello! Are you a big football fan? :) \n",
            "agent_2: Hi there, I am a fan, but not a huge fan, I do follow my team closely though.  How about you?\n",
            "agent_1: I used to be more into it when I was younger. I lived in Louisiana for a while so it's funny they brought up the Saints. What's your team?\n",
            "\n",
            "agent_2: I'm a fan of the New York Giants. I know a lot of people who are fans of the Saints, but I've always been a Giants fan.  I'm also a big fan of college football, especially Notre Dame.  I'm also a big fan of the NBA, especially the New York Knicks.  What about you?#include\n",
            "\n",
            "\n",
            "\n",
            "Clean Result: agent_2: I'm a fan of the New York Giants. I know a lot of people who are fans of the Saints, but I've always been a Giants fan.  I'm also a big fan of college football, especially Notre Dame.  I'm also a big fan of the NBA, especially the New York Knicks.  What about you?#include\n",
            "\n",
            "\n",
            "40 *****************************\n"
          ]
        },
        {
          "output_type": "stream",
          "name": "stderr",
          "text": [
            "Setting `pad_token_id` to `eos_token_id`:187 for open-end generation.\n"
          ]
        },
        {
          "output_type": "stream",
          "name": "stdout",
          "text": [
            "\n",
            "RAW Result: You are agent_2, a teenager. Answer agent_1 with an open-ended question and try to use the word 'orange'. Context: \n",
            "agent_1: Hi, do you like football?\n",
            "agent_2: I love the sport, do you have a favorite team? AFC or NFC?\n",
            "agent_1: NFC and the Bears. You?\n",
            "\n",
            "agent_2: I'm a Packers fan. What's your favorite team?#include\n",
            "\n",
            "\n",
            "\n",
            "Clean Result: agent_2: I'm a Packers fan. What's your favorite team?#include\n",
            "\n",
            "\n",
            "41 *****************************\n"
          ]
        },
        {
          "output_type": "stream",
          "name": "stderr",
          "text": [
            "Setting `pad_token_id` to `eos_token_id`:187 for open-end generation.\n"
          ]
        },
        {
          "output_type": "stream",
          "name": "stdout",
          "text": [
            "\n",
            "RAW Result: You are agent_2, a teenager. Answer agent_1 with an open-ended question and try to use the word 'orange'. Context: \n",
            "agent_1: Do you think Tom Brady is really ready to retire?\n",
            "agent_2: I don't know. The consensus among the experts seems to be that he'll keep playing.\n",
            "agent_1: Why is that?  His wife makes a ton of money, too.\n",
            "\n",
            "agent_2: I think he's just enjoying his time away from football.#include\n",
            "\n",
            "\n",
            "\n",
            "Clean Result: agent_2: I think he's just enjoying his time away from football.#include\n",
            "\n",
            "\n",
            "42 *****************************\n"
          ]
        },
        {
          "output_type": "stream",
          "name": "stderr",
          "text": [
            "Setting `pad_token_id` to `eos_token_id`:187 for open-end generation.\n"
          ]
        },
        {
          "output_type": "stream",
          "name": "stdout",
          "text": [
            "\n",
            "RAW Result: You are agent_2, a teenager. Answer agent_1 with an open-ended question and try to use the word 'orange'. Context: \n",
            "agent_1: Hi, do you like football?\n",
            "agent_2: Yes I enjoy the game. I like the NFL even though there's only 11 minutes alive gameplay.\n",
            "agent_1: That seems short. Do you know there is no rule against females playing?\n",
            "\n",
            "agent_2: I'm not sure what you mean, but I'm happy to play if you're serious.#include\n",
            "\n",
            "\n",
            "\n",
            "Clean Result: agent_2: I'm not sure what you mean, but I'm happy to play if you're serious.#include\n",
            "\n",
            "\n",
            "43 *****************************\n"
          ]
        },
        {
          "output_type": "stream",
          "name": "stderr",
          "text": [
            "Setting `pad_token_id` to `eos_token_id`:187 for open-end generation.\n"
          ]
        },
        {
          "output_type": "stream",
          "name": "stdout",
          "text": [
            "\n",
            "RAW Result: You are agent_2, a teenager. Answer agent_1 with an open-ended question and try to use the word 'orange'. Context: \n",
            "agent_1: I love watching the 32 teams in the NFL, although the super bowl yesterday was a disappointment\n",
            "agent_2: I enjoy watching, too. I thought the game yesterday was a very good defensive game; but I was not for the Patriots to win again.\n",
            "agent_1: Yes the Patriots win too much.  Did you know that an average NFL game only has 11 minutes of live gameplay?  Yesterday seemed like even less\n",
            "\n",
            "agent_2: That is interesting. I did not know that.#include\n",
            "\n",
            "\n",
            "\n",
            "Clean Result: agent_2: That is interesting. I did not know that.#include\n",
            "\n",
            "\n",
            "44 *****************************\n"
          ]
        },
        {
          "output_type": "stream",
          "name": "stderr",
          "text": [
            "Setting `pad_token_id` to `eos_token_id`:187 for open-end generation.\n"
          ]
        },
        {
          "output_type": "stream",
          "name": "stdout",
          "text": [
            "\n",
            "RAW Result: You are agent_2, a teenager. Answer agent_1 with an open-ended question and try to use the word 'orange'. Context: \n",
            "agent_1: Are you a football fan?\n",
            "agent_2: Hi, yes I love football. What about you?\n",
            "agent_1: I'm a season ticket holder for my alma mater, the LSU Tigers.  And, I follow the Saints in the NFL.  It was interesting to see a female ref in the NFL playoffs.  Do you think we will ever see a NFL female player?\n",
            "\n",
            "agent_2: That's an interesting question.  I think we will eventually see female players in the NFL.  However, I think it will take some time before this happens.  I think the first step would be to allow female refs in the league.  What do you think about this?#include\n",
            "\n",
            "\n",
            "\n",
            "Clean Result: agent_2: That's an interesting question.  I think we will eventually see female players in the NFL.  However, I think it will take some time before this happens.  I think the first step would be to allow female refs in the league.  What do you think about this?#include\n",
            "\n",
            "\n",
            "45 *****************************\n"
          ]
        },
        {
          "output_type": "stream",
          "name": "stderr",
          "text": [
            "Setting `pad_token_id` to `eos_token_id`:187 for open-end generation.\n"
          ]
        },
        {
          "output_type": "stream",
          "name": "stdout",
          "text": [
            "\n",
            "RAW Result: You are agent_2, a teenager. Answer agent_1 with an open-ended question and try to use the word 'orange'. Context: \n",
            "agent_1: hello, let's discuss football.\n",
            "agent_2: Can you believe Brady's JV high school football coach refused to play him?\n",
            "agent_1: really? why? I haven't heard about that.. I adored Italian A serie when i was a teenager\n",
            "\n",
            "agent_2: I guess we're in different generations. I don't know much about football, but I can tell you that the reason Brady's coach refused to play him is because he was suspended for the rest of the season for taking a knee-brace to the head of a player during a game. I'm not sure if that's the same knee-brace you're talking about, but it's a common one.#include\n",
            "\n",
            "\n",
            "\n",
            "Clean Result: agent_2: I guess we're in different generations. I don't know much about football, but I can tell you that the reason Brady's coach refused to play him is because he was suspended for the rest of the season for taking a knee-brace to the head of a player during a game. I'm not sure if that's the same knee-brace you're talking about, but it's a common one.#include\n",
            "\n",
            "\n",
            "46 *****************************\n"
          ]
        },
        {
          "output_type": "stream",
          "name": "stderr",
          "text": [
            "Setting `pad_token_id` to `eos_token_id`:187 for open-end generation.\n"
          ]
        },
        {
          "output_type": "stream",
          "name": "stdout",
          "text": [
            "\n",
            "RAW Result: You are agent_2, a teenager. Answer agent_1 with an open-ended question and try to use the word 'orange'. Context: \n",
            "agent_1: do you watch the NFL?\n",
            "agent_2: yes, do you know who kellan moore is?\n",
            "agent_1: I have heard of him. DO you like Brady?\n",
            "\n",
            "agent_2: I like Tom Brady. What is your favorite color?\n",
            "\n",
            "\n",
            "\n",
            "Clean Result: agent_2: I like Tom Brady. What is your favorite color?\n",
            "\n",
            "\n",
            "47 *****************************\n"
          ]
        },
        {
          "output_type": "stream",
          "name": "stderr",
          "text": [
            "Setting `pad_token_id` to `eos_token_id`:187 for open-end generation.\n"
          ]
        },
        {
          "output_type": "stream",
          "name": "stdout",
          "text": [
            "\n",
            "RAW Result: You are agent_2, a teenager. Answer agent_1 with an open-ended question and try to use the word 'orange'. Context: \n",
            "agent_1: Do you watch football?\n",
            "agent_2: Heck yeah but not lately since the season is over. I only watch American football though.\n",
            "agent_1: Yea, that best kind lol. Do you watch both college and nfl?\n",
            "\n",
            "agent_2: I watch college football too. I like watching the big games between top teams, but I mainly watch the nfl.#include\n",
            "\n",
            "\n",
            "\n",
            "Clean Result: agent_2: I watch college football too. I like watching the big games between top teams, but I mainly watch the nfl.#include\n",
            "\n",
            "\n",
            "48 *****************************\n"
          ]
        },
        {
          "output_type": "stream",
          "name": "stderr",
          "text": [
            "Setting `pad_token_id` to `eos_token_id`:187 for open-end generation.\n"
          ]
        },
        {
          "output_type": "stream",
          "name": "stdout",
          "text": [
            "\n",
            "RAW Result: You are agent_2, a teenager. Answer agent_1 with an open-ended question and try to use the word 'orange'. Context: \n",
            "agent_1: hey there do you ever watch football?\n",
            "agent_2: Yes, I watch it a lot. While I'm from the midwest and still a KC Chiefs fan, I live near Boston so I live among the whole Patriots Nation epicenter.\n",
            "agent_1: ah I see, did you hear how Univ. of Iowa painted their visiting teams locker room pink?\n",
            "\n",
            "agent_2: No, I didn't. That's pretty wild. I wonder if they did it because they were trying to motivate their team, or if they were just trying to be funny.#include\n",
            "\n",
            "\n",
            "\n",
            "Clean Result: agent_2: No, I didn't. That's pretty wild. I wonder if they did it because they were trying to motivate their team, or if they were just trying to be funny.#include\n",
            "\n",
            "\n",
            "49 *****************************\n",
            "\n",
            "RAW Result: You are agent_2, a teenager. Answer agent_1 with an open-ended question and try to use the word 'orange'. Context: \n",
            "agent_1: Do you like watching football?\n",
            "agent_2: I love watching it!  How about you?\n",
            "agent_1: I love it also! Do you have a favorite college and NFL team?\n",
            "\n",
            "agent_2: I'm a huge fan of the New England Patriots.  They're my favorite team.  What about you?\n",
            "\n",
            "\n",
            "\n",
            "Clean Result: agent_2: I'm a huge fan of the New England Patriots.  They're my favorite team.  What about you?\n",
            "\n",
            "\n"
          ]
        },
        {
          "output_type": "execute_result",
          "data": {
            "text/plain": [
              "                                             context  \\\n",
              "0  agent_1: Did you know that the University of I...   \n",
              "1  agent_1: Hi, how are you?\\nagent_2: well thank...   \n",
              "2  agent_1: Hi, how are you?\\nagent_2: I am well ...   \n",
              "3  agent_1: do you watch the NFL?\\nagent_2: I sur...   \n",
              "4  agent_1: Hi there, do you watch the NFL?\\nagen...   \n",
              "\n",
              "                                            response  response_size  \\\n",
              "0  agent_2: Yes, I think you are correct.  I reme...            108   \n",
              "1  agent_2: actually yes, I am familiar with him....             78   \n",
              "2  agent_2: I agree that the NCAA is weak but I a...            255   \n",
              "3  agent_2: No, I didn't. What kind of player are...             52   \n",
              "4  agent_2: I like the Eagles, but I also like th...            169   \n",
              "\n",
              "   has_question  has_orange  inference_time  \n",
              "0         False       False        5.536327  \n",
              "1          True       False        3.808358  \n",
              "2          True       False       12.539335  \n",
              "3          True       False        2.642284  \n",
              "4         False       False        9.171395  "
            ],
            "text/html": [
              "\n",
              "\n",
              "  <div id=\"df-85a48a7f-3ef8-4f18-8832-b8035cd51d20\">\n",
              "    <div class=\"colab-df-container\">\n",
              "      <div>\n",
              "<style scoped>\n",
              "    .dataframe tbody tr th:only-of-type {\n",
              "        vertical-align: middle;\n",
              "    }\n",
              "\n",
              "    .dataframe tbody tr th {\n",
              "        vertical-align: top;\n",
              "    }\n",
              "\n",
              "    .dataframe thead th {\n",
              "        text-align: right;\n",
              "    }\n",
              "</style>\n",
              "<table border=\"1\" class=\"dataframe\">\n",
              "  <thead>\n",
              "    <tr style=\"text-align: right;\">\n",
              "      <th></th>\n",
              "      <th>context</th>\n",
              "      <th>response</th>\n",
              "      <th>response_size</th>\n",
              "      <th>has_question</th>\n",
              "      <th>has_orange</th>\n",
              "      <th>inference_time</th>\n",
              "    </tr>\n",
              "  </thead>\n",
              "  <tbody>\n",
              "    <tr>\n",
              "      <th>0</th>\n",
              "      <td>agent_1: Did you know that the University of I...</td>\n",
              "      <td>agent_2: Yes, I think you are correct.  I reme...</td>\n",
              "      <td>108</td>\n",
              "      <td>False</td>\n",
              "      <td>False</td>\n",
              "      <td>5.536327</td>\n",
              "    </tr>\n",
              "    <tr>\n",
              "      <th>1</th>\n",
              "      <td>agent_1: Hi, how are you?\\nagent_2: well thank...</td>\n",
              "      <td>agent_2: actually yes, I am familiar with him....</td>\n",
              "      <td>78</td>\n",
              "      <td>True</td>\n",
              "      <td>False</td>\n",
              "      <td>3.808358</td>\n",
              "    </tr>\n",
              "    <tr>\n",
              "      <th>2</th>\n",
              "      <td>agent_1: Hi, how are you?\\nagent_2: I am well ...</td>\n",
              "      <td>agent_2: I agree that the NCAA is weak but I a...</td>\n",
              "      <td>255</td>\n",
              "      <td>True</td>\n",
              "      <td>False</td>\n",
              "      <td>12.539335</td>\n",
              "    </tr>\n",
              "    <tr>\n",
              "      <th>3</th>\n",
              "      <td>agent_1: do you watch the NFL?\\nagent_2: I sur...</td>\n",
              "      <td>agent_2: No, I didn't. What kind of player are...</td>\n",
              "      <td>52</td>\n",
              "      <td>True</td>\n",
              "      <td>False</td>\n",
              "      <td>2.642284</td>\n",
              "    </tr>\n",
              "    <tr>\n",
              "      <th>4</th>\n",
              "      <td>agent_1: Hi there, do you watch the NFL?\\nagen...</td>\n",
              "      <td>agent_2: I like the Eagles, but I also like th...</td>\n",
              "      <td>169</td>\n",
              "      <td>False</td>\n",
              "      <td>False</td>\n",
              "      <td>9.171395</td>\n",
              "    </tr>\n",
              "  </tbody>\n",
              "</table>\n",
              "</div>\n",
              "      <button class=\"colab-df-convert\" onclick=\"convertToInteractive('df-85a48a7f-3ef8-4f18-8832-b8035cd51d20')\"\n",
              "              title=\"Convert this dataframe to an interactive table.\"\n",
              "              style=\"display:none;\">\n",
              "\n",
              "  <svg xmlns=\"http://www.w3.org/2000/svg\" height=\"24px\"viewBox=\"0 0 24 24\"\n",
              "       width=\"24px\">\n",
              "    <path d=\"M0 0h24v24H0V0z\" fill=\"none\"/>\n",
              "    <path d=\"M18.56 5.44l.94 2.06.94-2.06 2.06-.94-2.06-.94-.94-2.06-.94 2.06-2.06.94zm-11 1L8.5 8.5l.94-2.06 2.06-.94-2.06-.94L8.5 2.5l-.94 2.06-2.06.94zm10 10l.94 2.06.94-2.06 2.06-.94-2.06-.94-.94-2.06-.94 2.06-2.06.94z\"/><path d=\"M17.41 7.96l-1.37-1.37c-.4-.4-.92-.59-1.43-.59-.52 0-1.04.2-1.43.59L10.3 9.45l-7.72 7.72c-.78.78-.78 2.05 0 2.83L4 21.41c.39.39.9.59 1.41.59.51 0 1.02-.2 1.41-.59l7.78-7.78 2.81-2.81c.8-.78.8-2.07 0-2.86zM5.41 20L4 18.59l7.72-7.72 1.47 1.35L5.41 20z\"/>\n",
              "  </svg>\n",
              "      </button>\n",
              "\n",
              "\n",
              "\n",
              "    <div id=\"df-cb853d32-0911-4053-b7f3-1656453c4dfd\">\n",
              "      <button class=\"colab-df-quickchart\" onclick=\"quickchart('df-cb853d32-0911-4053-b7f3-1656453c4dfd')\"\n",
              "              title=\"Suggest charts.\"\n",
              "              style=\"display:none;\">\n",
              "\n",
              "<svg xmlns=\"http://www.w3.org/2000/svg\" height=\"24px\"viewBox=\"0 0 24 24\"\n",
              "     width=\"24px\">\n",
              "    <g>\n",
              "        <path d=\"M19 3H5c-1.1 0-2 .9-2 2v14c0 1.1.9 2 2 2h14c1.1 0 2-.9 2-2V5c0-1.1-.9-2-2-2zM9 17H7v-7h2v7zm4 0h-2V7h2v10zm4 0h-2v-4h2v4z\"/>\n",
              "    </g>\n",
              "</svg>\n",
              "      </button>\n",
              "    </div>\n",
              "\n",
              "<style>\n",
              "  .colab-df-quickchart {\n",
              "    background-color: #E8F0FE;\n",
              "    border: none;\n",
              "    border-radius: 50%;\n",
              "    cursor: pointer;\n",
              "    display: none;\n",
              "    fill: #1967D2;\n",
              "    height: 32px;\n",
              "    padding: 0 0 0 0;\n",
              "    width: 32px;\n",
              "  }\n",
              "\n",
              "  .colab-df-quickchart:hover {\n",
              "    background-color: #E2EBFA;\n",
              "    box-shadow: 0px 1px 2px rgba(60, 64, 67, 0.3), 0px 1px 3px 1px rgba(60, 64, 67, 0.15);\n",
              "    fill: #174EA6;\n",
              "  }\n",
              "\n",
              "  [theme=dark] .colab-df-quickchart {\n",
              "    background-color: #3B4455;\n",
              "    fill: #D2E3FC;\n",
              "  }\n",
              "\n",
              "  [theme=dark] .colab-df-quickchart:hover {\n",
              "    background-color: #434B5C;\n",
              "    box-shadow: 0px 1px 3px 1px rgba(0, 0, 0, 0.15);\n",
              "    filter: drop-shadow(0px 1px 2px rgba(0, 0, 0, 0.3));\n",
              "    fill: #FFFFFF;\n",
              "  }\n",
              "</style>\n",
              "\n",
              "    <script>\n",
              "      async function quickchart(key) {\n",
              "        const containerElement = document.querySelector('#' + key);\n",
              "        const charts = await google.colab.kernel.invokeFunction(\n",
              "            'suggestCharts', [key], {});\n",
              "      }\n",
              "    </script>\n",
              "\n",
              "      <script>\n",
              "\n",
              "function displayQuickchartButton(domScope) {\n",
              "  let quickchartButtonEl =\n",
              "    domScope.querySelector('#df-cb853d32-0911-4053-b7f3-1656453c4dfd button.colab-df-quickchart');\n",
              "  quickchartButtonEl.style.display =\n",
              "    google.colab.kernel.accessAllowed ? 'block' : 'none';\n",
              "}\n",
              "\n",
              "        displayQuickchartButton(document);\n",
              "      </script>\n",
              "      <style>\n",
              "    .colab-df-container {\n",
              "      display:flex;\n",
              "      flex-wrap:wrap;\n",
              "      gap: 12px;\n",
              "    }\n",
              "\n",
              "    .colab-df-convert {\n",
              "      background-color: #E8F0FE;\n",
              "      border: none;\n",
              "      border-radius: 50%;\n",
              "      cursor: pointer;\n",
              "      display: none;\n",
              "      fill: #1967D2;\n",
              "      height: 32px;\n",
              "      padding: 0 0 0 0;\n",
              "      width: 32px;\n",
              "    }\n",
              "\n",
              "    .colab-df-convert:hover {\n",
              "      background-color: #E2EBFA;\n",
              "      box-shadow: 0px 1px 2px rgba(60, 64, 67, 0.3), 0px 1px 3px 1px rgba(60, 64, 67, 0.15);\n",
              "      fill: #174EA6;\n",
              "    }\n",
              "\n",
              "    [theme=dark] .colab-df-convert {\n",
              "      background-color: #3B4455;\n",
              "      fill: #D2E3FC;\n",
              "    }\n",
              "\n",
              "    [theme=dark] .colab-df-convert:hover {\n",
              "      background-color: #434B5C;\n",
              "      box-shadow: 0px 1px 3px 1px rgba(0, 0, 0, 0.15);\n",
              "      filter: drop-shadow(0px 1px 2px rgba(0, 0, 0, 0.3));\n",
              "      fill: #FFFFFF;\n",
              "    }\n",
              "  </style>\n",
              "\n",
              "      <script>\n",
              "        const buttonEl =\n",
              "          document.querySelector('#df-85a48a7f-3ef8-4f18-8832-b8035cd51d20 button.colab-df-convert');\n",
              "        buttonEl.style.display =\n",
              "          google.colab.kernel.accessAllowed ? 'block' : 'none';\n",
              "\n",
              "        async function convertToInteractive(key) {\n",
              "          const element = document.querySelector('#df-85a48a7f-3ef8-4f18-8832-b8035cd51d20');\n",
              "          const dataTable =\n",
              "            await google.colab.kernel.invokeFunction('convertToInteractive',\n",
              "                                                     [key], {});\n",
              "          if (!dataTable) return;\n",
              "\n",
              "          const docLinkHtml = 'Like what you see? Visit the ' +\n",
              "            '<a target=\"_blank\" href=https://colab.research.google.com/notebooks/data_table.ipynb>data table notebook</a>'\n",
              "            + ' to learn more about interactive tables.';\n",
              "          element.innerHTML = '';\n",
              "          dataTable['output_type'] = 'display_data';\n",
              "          await google.colab.output.renderOutput(dataTable, element);\n",
              "          const docLink = document.createElement('div');\n",
              "          docLink.innerHTML = docLinkHtml;\n",
              "          element.appendChild(docLink);\n",
              "        }\n",
              "      </script>\n",
              "    </div>\n",
              "  </div>\n"
            ]
          },
          "metadata": {},
          "execution_count": 12
        }
      ]
    },
    {
      "cell_type": "code",
      "source": [],
      "metadata": {
        "id": "mFBgH-nqCRlE"
      },
      "execution_count": null,
      "outputs": []
    },
    {
      "cell_type": "code",
      "source": [],
      "metadata": {
        "id": "JjfxWcCXDLIH"
      },
      "execution_count": null,
      "outputs": []
    }
  ]
}